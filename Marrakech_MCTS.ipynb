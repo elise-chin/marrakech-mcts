{
 "cells": [
  {
   "cell_type": "markdown",
   "metadata": {
    "id": "8bn1ZkTWIuCH"
   },
   "source": [
    "# Marrakech MCTS\n",
    "\n",
    "Notebook pour les expériences.\n",
    "\n",
    "Liens :\n",
    "\n",
    "- cours : https://www.lamsade.dauphine.fr/~cazenave/MonteCarlo.pdf\n",
    "\n",
    "- Modélisation : https://github.com/sor8sh/Marrakech/blob/main/main.py\n",
    "- Idee diff de MCTS : https://github.com/IraSkyx/marrakech-ai\n",
    "- https://github.com/bubka42/marrakech\n",
    "- MCTS for stochastic games : https://www.lamsade.dauphine.fr/~cazenave/papers/mctrsg.pdf\n"
   ]
  },
  {
   "cell_type": "markdown",
   "metadata": {
    "colab": {
     "base_uri": "https://localhost:8080/"
    },
    "id": "vgqfqCWEIrZG",
    "outputId": "a5f1ba0c-11eb-4334-810e-9ef6f456b427"
   },
   "source": [
    "!git clone https://github.com/elise-chin/marrakech-mcts.git\n",
    "\n",
    "%cd marrakech-mcts\n",
    "\n",
    "%mkdir src "
   ]
  },
  {
   "cell_type": "markdown",
   "metadata": {},
   "source": [
    "# Implémentation du jeu\n",
    "\n",
    "--> A mettre dans un fichier .py a part puis importer ici ?"
   ]
  },
  {
   "cell_type": "code",
   "execution_count": 8,
   "metadata": {
    "id": "mHWAIJvPppM9"
   },
   "outputs": [],
   "source": [
    "from pickle import NEWOBJ_EX\n",
    "import numpy as np\n",
    "import matplotlib.pyplot as plt\n",
    "from matplotlib import colors\n",
    "from itertools import cycle, count\n",
    "import random \n",
    "import copy\n",
    "from tqdm import tqdm\n",
    "import math\n",
    "import time\n",
    "import random\n",
    "from collections import defaultdict\n",
    "\n",
    "###########################\n",
    "# --- GLOBAL VARIABLES ---\n",
    "###########################\n",
    "\n",
    "random.seed(42)\n",
    "\n",
    "BOARD_SIZE=5\n",
    "N_RUGS=8\n",
    "MIDDLE=2\n",
    "DICE=[1,2,2,3]\n",
    "\n",
    "# Colors of the rugs\n",
    "EMPTY = 0\n",
    "RED = 1 #player 1\n",
    "BLUE = 2 #player 2\n",
    "PINK = 3 #player 1\n",
    "GREEN = 4 #player 2\n",
    "\n",
    "\n",
    "colors = [RED, BLUE, PINK, GREEN]\n",
    "color_cycle = cycle(colors)\n",
    "#next(color_cycle) gives the next color to play\n",
    "\n",
    "# Counters for each color to increment when instanciating new Rug, starts at 1\n",
    "red_counter = count(1)\n",
    "blue_counter = count(1)\n",
    "pink_counter = count(1)\n",
    "green_counter = count(1)\n",
    "\n",
    "# Orientations of the pawn\n",
    "NORTH = (0, 1)\n",
    "SOUTH = (0, -1)\n",
    "EAST = (1, 0)\n",
    "WEST = (-1, 0)\n",
    "\n",
    "orientations_int2str = {NORTH: \"north\", SOUTH: \"south\", EAST: \"east\", WEST: \"west\"}\n",
    "colors_int2str = {RED: \"red\", BLUE: \"blue\", PINK: \"pink\", GREEN: \"green\"}\n",
    "\n",
    "# U turns (demi tour) of the pawn\n",
    "u_turn = {\n",
    "    NORTH: SOUTH,\n",
    "    SOUTH: NORTH,\n",
    "    EAST: WEST,\n",
    "    WEST: EAST,\n",
    "}\n",
    "\n",
    "####################\n",
    "# --- FUNCTIONS ---\n",
    "####################\n",
    "\n",
    "def adjacent_coord(coord):\n",
    "    \"\"\"Returns all squares' coordinates (x', y') adjacent to square of coordinate `coord` (x, y)\n",
    "\n",
    "    Args:\n",
    "        coord (tuple of int): coordinate (x,y) of the square of interest\n",
    "\n",
    "    Returns:\n",
    "        list of tuples: list of adjacent positions\n",
    "    \"\"\"\n",
    "    x, y = coord\n",
    "    answer = []\n",
    "    if -1 < x - 1 < BOARD_SIZE:\n",
    "        answer.append((x - 1, y))\n",
    "    if -1 < x + 1 < BOARD_SIZE:\n",
    "        answer.append((x + 1, y))\n",
    "    if -1 < y - 1 < BOARD_SIZE:\n",
    "        answer.append((x, y - 1))\n",
    "    if -1 < y + 1 < BOARD_SIZE:\n",
    "        answer.append((x, y + 1))\n",
    "    return answer\n",
    "\n",
    "def next_color(color):\n",
    "  next = ''\n",
    "  if color == RED:\n",
    "    next = BLUE\n",
    "  elif color == BLUE:\n",
    "    next = PINK\n",
    "  elif color == PINK:\n",
    "    next = GREEN\n",
    "  elif color == GREEN:\n",
    "    next = RED\n",
    "  \n",
    "  if next == '':\n",
    "    print('The color is incorrect')\n",
    "\n",
    "  return next\n",
    "  \n",
    "'''\n",
    "def adjacent_coord(coord):\n",
    "    \"\"\"Returns all squares' coordinates (x', y') adjacent to square of coordinate `coord` (x, y)\n",
    "\n",
    "    Args:\n",
    "        coord (tuple of int): coordinate (x,y) of the square of interest\n",
    "\n",
    "    Returns:\n",
    "        list of tuples: list of adjacent positions\n",
    "    \"\"\"\n",
    "    x, y = coord\n",
    "    left = (x-1, y)\n",
    "    right = (x+1, y)\n",
    "    up = (x, y+1)\n",
    "    down = (x, y-1)\n",
    "    L = [left, right, up, down]\n",
    "\n",
    "    if x == 0:\n",
    "        L.remove(left)\n",
    "    if y == 0:\n",
    "        L.remove(down)\n",
    "    if x == 6:\n",
    "        L.remove(right)\n",
    "    if y == 6:\n",
    "        L.remove(up)\n",
    "\n",
    "    return L\n",
    "'''\n",
    "\n",
    "##################\n",
    "# --- CLASSES ---\n",
    "##################\n",
    "\n",
    "class Position(object):\n",
    "    def __init__(self, x, y):\n",
    "        self.x = x\n",
    "        self.y = y\n",
    "\n",
    "    def __str__(self):\n",
    "        return f'({self.x},{self.y})'\n",
    "\n",
    "    def get_coord(self):\n",
    "        return self.x, self.y\n",
    "\n",
    "    def is_out_of_board(self, board_limit):\n",
    "        \"\"\"Check if the position of coordinates (x,y) is outside the board.\n",
    "        \n",
    "        Args:\n",
    "            board_limit (int): board limit in terms of indices \n",
    "                               (e.g. if board is of size 7, then board_limit = 6)\n",
    "        \"\"\"\n",
    "\n",
    "        if self.x < 0 or self.x > board_limit or self.y < 0 or self.y > board_limit:\n",
    "            return True\n",
    "        return False\n",
    "\n",
    "\n",
    "class Rug(object):\n",
    "\n",
    "    def __init__(self, color, sq1_pos, sq2_pos, incr=False):\n",
    "        self.color = color\n",
    "        self.sq1_pos = Position(sq1_pos[0], sq1_pos[1]) \n",
    "        self.sq2_pos = Position(sq2_pos[0], sq2_pos[1])\n",
    "        if incr:\n",
    "            self.id = self.increment_id()\n",
    "        else:\n",
    "            self.id = 0\n",
    "\n",
    "    def __str__(self):\n",
    "        return f\"Rug {colors_int2str[self.color]} of id {self.id} at position ({self.sq1_pos}, {self.sq2_pos}).\"\n",
    "\n",
    "    def increment_id(self):\n",
    "        if self.color == RED:\n",
    "            return next(red_counter)\n",
    "        if self.color == BLUE:\n",
    "            return next(blue_counter)\n",
    "        if self.color == PINK:\n",
    "            return next(pink_counter)\n",
    "        if self.color == GREEN:\n",
    "            return next(green_counter)\n",
    "\n",
    "    def create_real(self, incr=True):\n",
    "        rug_copy = Rug(self.color, self.sq1_pos.get_coord(), self.sq2_pos.get_coord(), incr)\n",
    "        return rug_copy\n",
    "\n",
    "class Pawn(object):\n",
    "    def __init__(self):\n",
    "        # The pawn start at the center of the board\n",
    "        self.position = Position(MIDDLE, MIDDLE)\n",
    "        self.orientation = NORTH\n",
    "\n",
    "    def __str__(self):\n",
    "        result = f'({self.position}, {orientations_int2str[self.orientation]})'\n",
    "        return result\n",
    "    \n",
    "    def set_position(self, x, y):\n",
    "        self.position.x = x\n",
    "        self.position.y = y\n",
    "\n",
    "    def set_orientation(self, orientation):\n",
    "        self.orientation = orientation\n",
    "\n",
    "    def legal_orientations(self):\n",
    "        # The pawn cannot make a u turn\n",
    "        orientations = [NORTH, SOUTH, EAST, WEST]\n",
    "        orientations.remove(u_turn[self.orientation])\n",
    "        return orientations\n",
    "\n",
    "    def legal_move(self, new_orientation, dice):\n",
    "\n",
    "        #   Case 1: pawn does not go out from the board\n",
    "        legal_x = self.position.x + new_orientation[0] * dice\n",
    "        legal_y = self.position.y + new_orientation[1] * dice\n",
    "        legal_position = Position(legal_x, legal_y)\n",
    "\n",
    "        #   Case 2: pawn goes out from the board (implementation brute-force)\n",
    "        if legal_position.is_out_of_board(board_limit=(BOARD_SIZE-1)): \n",
    "            # Count the number of steps left after moving out of the board\n",
    "            # Place the pawn at the limit of the board\n",
    "            if new_orientation == NORTH:\n",
    "                steps_left = legal_y - (BOARD_SIZE-1)\n",
    "                legal_y = (BOARD_SIZE-1)\n",
    "            elif new_orientation == EAST:\n",
    "                steps_left = legal_x - (BOARD_SIZE-1)\n",
    "                legal_x = (BOARD_SIZE-1)\n",
    "            elif new_orientation == SOUTH:\n",
    "                steps_left = -legal_y\n",
    "                legal_y = 0\n",
    "            elif new_orientation == WEST:\n",
    "                steps_left = -legal_x\n",
    "                legal_x = 0\n",
    "\n",
    "            # Place the pawn after it has moved out from the board \n",
    "            # It counts as a step\n",
    "            new_orientation, legal_x, legal_y = self.get_move_in_board(new_orientation, legal_x, legal_y)\n",
    "            steps_left = steps_left - 1\n",
    "            \n",
    "            # Move the pawn according to the number of steps left\n",
    "            legal_x = legal_x + new_orientation[0] * steps_left\n",
    "            legal_y = legal_y + new_orientation[1] * steps_left\n",
    "        \n",
    "        return new_orientation, legal_x, legal_y\n",
    "\n",
    "    def get_move_in_board(self, orientation, x, y):\n",
    "        \"\"\"Get the new orientation and coordinates (new_x, new_y) of the pawn after moving out of the board.\"\"\"\n",
    "        # Bottom left corner (0,0)\n",
    "        #to read again by mathilde\n",
    "        if (x, y) == (0,0) and orientation == SOUTH:\n",
    "            orientation = EAST\n",
    "        elif (x, y) == (0,0) and orientation == WEST:\n",
    "            orientation = NORTH\n",
    "        # Top right corner (6,6)\n",
    "        elif (x, y) == ((BOARD_SIZE-1),(BOARD_SIZE-1)) and orientation == EAST:\n",
    "            orientation = SOUTH\n",
    "        elif (x, y) == ((BOARD_SIZE-1),(BOARD_SIZE-1)) and orientation == NORTH:\n",
    "            orientation = WEST\n",
    "        # Bottom side (y = 0)\n",
    "        elif orientation == SOUTH:\n",
    "            x = x + 1 if x % 2 == 1 else x - 1\n",
    "            orientation = NORTH\n",
    "        # Right side (x = 6)\n",
    "        elif orientation == EAST:\n",
    "            y = y + 1 if y % 2 == 0 else y - 1\n",
    "            orientation = WEST\n",
    "        # Top side (y = 6)\n",
    "        elif orientation == NORTH:\n",
    "            x = x + 1 if x % 2 == 0 else x - 1\n",
    "            orientation = SOUTH\n",
    "        # Left side (x = 0)\n",
    "        elif orientation == WEST:\n",
    "            y = y + 1 if y % 2 == 1 else y - 1\n",
    "            orientation = EAST\n",
    "        return orientation, x, y\n",
    "\n",
    "    def move(self, new_orientation, new_x, new_y):\n",
    "        self.set_orientation(new_orientation)\n",
    "        self.set_position(new_x, new_y)\n",
    "\n",
    "    def get_nb_same_color_squares(self, board):\n",
    "        \"\"\"Compute the number of adjacents squares of the same color\n",
    "        as the square's color on which the pawn is\"\"\"\n",
    "        counter = 1 # Init to 1 because the initial square counts\n",
    "        pawn_x, pawn_y = self.position.get_coord()\n",
    "        pawn_color = board.get_color(pawn_x, pawn_y)\n",
    "\n",
    "        coords_to_check = adjacent_coord((pawn_x, pawn_y))\n",
    "        visited_coords = set((pawn_x, pawn_y))\n",
    "        while coords_to_check:\n",
    "            x, y = coords_to_check.pop(0)\n",
    "            visited_coords.add((x, y))\n",
    "            color = board.get_color(x, y)\n",
    "            if color == pawn_color:\n",
    "                counter += 1\n",
    "                adj_coords = adjacent_coord((x,y))\n",
    "                # Only append to coords_to_check not visited coords yet and of same color as the pawn\n",
    "                for coord in adj_coords:\n",
    "                    if coord not in visited_coords:\n",
    "                        coords_to_check.append(coord)\n",
    "        return counter\n",
    "\n",
    "  \n",
    "class Player(object):\n",
    "    def __init__(self, id, colors):\n",
    "        self.id = id\n",
    "        self.colors = colors\n",
    "        self.rugs_left = 2*N_RUGS\n",
    "        self.coins = 30\n",
    "    \n",
    "    def pay(self, amount, opponent_player):\n",
    "        #I think that we should just focus on the 2 players game\n",
    "        #If the player doesn't have enough money\n",
    "        if self.coins - amount < 0:\n",
    "            opponent_player.coins += self.coins\n",
    "            self.coins = 0\n",
    "        #If the player can pay\n",
    "        else:\n",
    "            self.coins -= amount\n",
    "            opponent_player.coins += amount\n",
    "\n",
    "    def score(self, board):\n",
    "        # Sum of coins and the number of squares of the player's colors\n",
    "        s = self.coins\n",
    "        for x in range(board.size):\n",
    "            for y in range(board.size):\n",
    "                if board.board[x,y][0] in self.colors:\n",
    "                    s += 1\n",
    "        return s\n",
    "  \n",
    "class Move(object):\n",
    "    def __init__(self, pawn, new_orientation, new_x, new_y, rug, dice):\n",
    "        self.pawn = pawn\n",
    "        self.new_orientation = new_orientation\n",
    "        self.new_x = new_x\n",
    "        self.new_y = new_y\n",
    "        self.rug = rug\n",
    "        self.dice = dice\n",
    "        \n",
    "    def __str__(self):\n",
    "        \n",
    "        if self.pawn.orientation == self.new_orientation:\n",
    "            assam = f'The pawn stays in his orientation ({orientations_int2str[self.pawn.orientation]}).\\n'\n",
    "        else:\n",
    "            assam = f'The pawn is reoriented from {orientations_int2str[self.pawn.orientation]} to {orientations_int2str[self.new_orientation]}.\\n'\n",
    "        assam_move = f'Assam is moving from {self.pawn.position.__str__()} to ({self.new_x},{self.new_y}).\\n'\n",
    "        tapis = f\"A rug of color {colors_int2str[self.rug.color]} (id={self.rug.id}) is placed at ({self.rug.sq1_pos}, {self.rug.sq2_pos}).\"\n",
    "        result = assam + assam_move + tapis\n",
    "        return result\n",
    "        \n",
    "        #result = f'({orientations_int2str[self.new_orientation]}, ({self.new_x, self.new_y}), {self.rug})'\n",
    "        #return result \n",
    "\n",
    "    def is_pawn_new_orientation_valid(self):\n",
    "        # It is valid if no u-turn\n",
    "        return self.new_orientation in self.pawn.legal_orientations()\n",
    "\n",
    "    def is_pawn_new_position_valid(self):\n",
    "        \n",
    "        return True\n",
    "\n",
    "    def is_rug_adjacent_to_pawn(self):\n",
    "        # Check if adjacent to pawn and also not on the pawn's position\n",
    "\n",
    "        # List of all valid coordinates around the pawn\n",
    "        x, y = self.new_x, self.new_y\n",
    "        init_valid_coord = adjacent_coord((x, y))\n",
    "        valid_coord = init_valid_coord.copy()\n",
    "        for coord in init_valid_coord:\n",
    "            valid_coord.extend(adjacent_coord(coord))\n",
    "        set_valid_coord = set(valid_coord)\n",
    "        set_valid_coord.remove((x, y))\n",
    "\n",
    "        # Check if the rug's both squares are in the set\n",
    "        if self.rug.sq1_pos.get_coord() and self.rug.sq2_pos.get_coord() in set_valid_coord:\n",
    "            return True\n",
    "        return False\n",
    "\n",
    "    def is_rug_covering_another_rug(self, board):\n",
    "        # Rug's new placement is valid if it doesn't cover another rug\n",
    "        # We need to check if the both squares are covered by the same rug (same color and same id)\n",
    "        sq1_color_and_id = board.board[self.rug.sq1_pos.x, self.rug.sq1_pos.y]\n",
    "        sq2_color_and_id = board.board[self.rug.sq2_pos.x, self.rug.sq2_pos.y]\n",
    "        if not np.array_equal(sq1_color_and_id, np.zeros(2)) and np.array_equal(sq1_color_and_id, sq2_color_and_id):\n",
    "            return True\n",
    "        return False\n",
    "\n",
    "    def valid(self, board):\n",
    "        #print(self.is_pawn_new_orientation_valid(), self.is_pawn_new_position_valid(), self.is_rug_adjacent_to_pawn(), self.is_rug_covering_another_rug(board)) \n",
    "        if not self.is_pawn_new_orientation_valid():\n",
    "            return False\n",
    "        elif not self.is_pawn_new_position_valid():\n",
    "            return False\n",
    "        elif not self.is_rug_adjacent_to_pawn():\n",
    "            return False\n",
    "        elif self.is_rug_covering_another_rug(board):\n",
    "            return False\n",
    "        return True\n",
    "\n",
    "class Board(object):\n",
    "    def __init__(self, size=BOARD_SIZE, verbose=False):\n",
    "        self.h = 0 # Hash value\n",
    "        self.size = size\n",
    "        self.board = np.zeros((size, size, 2)) # Cell(x,y) = (rug_color, rug_id)\n",
    "        self.pawn = Pawn() # Initialize at (3,3)\n",
    "        self.players = [Player(0, [RED, PINK]), Player(1, [BLUE, GREEN])]\n",
    "        self.current_player = self.players[0]\n",
    "        self.current_color = RED # Start with first color of first player\n",
    "        self.verbose = verbose\n",
    "        self.nb_turns = 1\n",
    "        self.cycle_players = cycle(self.players)\n",
    "\n",
    "        self.hashTable = defaultdict()\n",
    "        for pawn in ['assam', 'no_assam']:\n",
    "            self.hashTable[pawn] = defaultdict()\n",
    "            for orientation in [NORTH, SOUTH, EAST, WEST]:\n",
    "                self.hashTable[pawn][orientation] = defaultdict()\n",
    "                for dice_result in [1, 2, 3]:\n",
    "                    self.hashTable[pawn][orientation][dice_result] = defaultdict()\n",
    "                    for x in range(5):\n",
    "                        self.hashTable[pawn][orientation][dice_result][x] = defaultdict()\n",
    "                        for y in range(5):\n",
    "                            self.hashTable[pawn][orientation][dice_result][x][y] = defaultdict()\n",
    "                            for rug_color in [RED, BLUE, PINK, GREEN, EMPTY]:\n",
    "                                self.hashTable[pawn][orientation][dice_result][x][y][rug_color] = random.randint(0, 2**64)\n",
    "        \n",
    "        self.hashTurn = random.randint(0, 2**64) # hash value for changing player\n",
    "        self.hashColor = random.randint(0, 2**64) # hash value for changing rug color\n",
    "        #self.transpositionTable = {}\n",
    "        # (h, (total_num_playouts,\n",
    "        #      list num playouts for each move,\n",
    "        #      list num wins for each move))\n",
    "        \n",
    "        \n",
    "        \n",
    "        \n",
    "    def __str__(self):\n",
    "        #print(self.board)\n",
    "        pass\n",
    "\n",
    "    def throw_dice(self):\n",
    "        dice = DICE\n",
    "        return random.choice(dice)\n",
    "\n",
    "    def get_color(self, x, y):\n",
    "        \"\"\"Get the color of the square (x,y)\"\"\"\n",
    "        return self.board[x,y][0]\n",
    "\n",
    "    def get_number(self, x, y):\n",
    "        \"\"\"Get the number of the square (x,y)\"\"\"\n",
    "        return self.board[x,y][1]\n",
    "\n",
    "    def legal_moves(self, dice):\n",
    "        \"\"\"Get list of legal moves among 4x49x12 possible moves.\n",
    "\n",
    "        - Orientation (4, including 3 valid)\n",
    "        - Pawn movement (49, including 1 valid according to the orientation and dice's result)\n",
    "        - Rug placement (12, including ? according to the pawn and other rugs' position)\n",
    "\n",
    "        \"\"\"\n",
    "        moves = [] # List of all possible valid moves\n",
    "\n",
    "        # For every orientation\n",
    "        for orientation in [NORTH, SOUTH, EAST, WEST]:\n",
    "            #we check where the pawn should end\n",
    "            _, x, y = self.pawn.legal_move(orientation, dice)\n",
    "            # For every square around the pawn\n",
    "            for sq1_coord in adjacent_coord((x, y)):\n",
    "                # For every square around those squares\n",
    "                for sq2_coord in adjacent_coord(sq1_coord):\n",
    "                    rug_notreal = Rug(self.current_color, sq1_coord, sq2_coord)\n",
    "                    m = Move(self.pawn, orientation, x, y, rug_notreal, dice)\n",
    "                    # Check if the move is legal\n",
    "                    \n",
    "                    if m.valid(self):\n",
    "                        # If yes, add to moves\n",
    "                        \n",
    "                        moves.append(m)\n",
    "        return moves\n",
    "\n",
    "    def score(self):\n",
    "        # We can think the score as player1's score - player2's score\n",
    "        # Such that if it's positive, player 1 wins, if negative player 2 wins \n",
    "        player1_score = self.players[0].score(self)\n",
    "        player2_score = self.players[1].score(self)\n",
    "        return player1_score - player2_score\n",
    "\n",
    "    def terminal(self):\n",
    "        total = 0\n",
    "        for player in self.players:\n",
    "            total += player.rugs_left\n",
    "        if total == 0:\n",
    "            return True\n",
    "        return False\n",
    "\n",
    "    def play(self, move):\n",
    "        \n",
    "        move.rug = move.rug.create_real()\n",
    "        if self.verbose:\n",
    "          print(move.__str__())\n",
    "        \n",
    "        # 1. Orientate and move the pawn\n",
    "        self.pawn.move(move.new_orientation, move.new_x, move.new_y)\n",
    "        \n",
    "        self.h = self.h ^ self.hashTable['no_assam'][self.pawn.orientation][move.dice][self.pawn.position.x][self.pawn.position.y][self.get_color(self.pawn.position.x, self.pawn.position.y)]\n",
    "        self.h = self.h ^ self.hashTable['assam'][move.new_orientation][move.dice][move.new_x][move.new_y][self.get_color(move.new_x, move.new_y)]\n",
    "\n",
    "        # 2. Place a rug\n",
    "        self.board[move.rug.sq1_pos.x, move.rug.sq1_pos.y] = np.array([move.rug.color, move.rug.id])\n",
    "        self.board[move.rug.sq2_pos.x, move.rug.sq2_pos.y] = np.array([move.rug.color, move.rug.id])\n",
    "        self.current_player.rugs_left -= 1\n",
    "        \n",
    "        self.h = self.h ^ self.hashTable['no_assam'][move.new_orientation][move.dice][move.rug.sq1_pos.x][move.rug.sq1_pos.y][move.rug.color]\n",
    "        self.h = self.h ^ self.hashTable['no_assam'][move.new_orientation][move.dice][move.rug.sq2_pos.x][move.rug.sq2_pos.y][move.rug.color]\n",
    "        \n",
    "        # 3. Pay opponent\n",
    "        # Pay only if the pawn is on an opponent color\n",
    "        current_square_color = self.get_color(self.pawn.position.x, self.pawn.position.y)\n",
    "        opponent_player_id = abs(self.current_player.id - 1)\n",
    "        if self.verbose:\n",
    "            if current_square_color:\n",
    "                print(f'The players ends on a {colors_int2str[current_square_color]} rug.')\n",
    "            else:\n",
    "                print(f'The player ends on an empty case.')\n",
    "        #very important : the player only have to pay if he is on an opponent rug ! not if it is an empty case !\n",
    "        if current_square_color:\n",
    "            if current_square_color not in self.current_player.colors:\n",
    "                amount = self.pawn.get_nb_same_color_squares(self)\n",
    "                if self.verbose:\n",
    "                    print(f'This rug belongs to player {self.players[opponent_player_id].id}.')\n",
    "                    print(f'The current player has to give him {amount} coins.')\n",
    "                self.current_player.pay(amount, self.players[opponent_player_id])\n",
    "            else:\n",
    "                if self.verbose:\n",
    "                    print(\"The rug is his so he doesn't have to pay.\")\n",
    "        if self.verbose:\n",
    "            print(f'Player {self.players[0].id} has {self.players[0].coins} coins. Player {self.players[1].id} has {self.players[1].coins}.')\n",
    "          \n",
    "        # Change turn\n",
    "        self.current_player = self.players[opponent_player_id]\n",
    "        #self.current_payer = next(self.cycle_players)\n",
    "        self.current_color = next_color(self.current_color)\n",
    "        \n",
    "        self.h = self.h ^ self.hashTurn \n",
    "        self.h = self.h ^ self.hashColor\n",
    "\n",
    "    def playout(self):\n",
    "        \"\"\"Play a random game from the current state.\n",
    "        Returns the result of the random game.\"\"\"\n",
    "\n",
    "        while(True):\n",
    "            # Throw the dice for the current player\n",
    "            dice_result = self.throw_dice()\n",
    "            #We get all the legal moves for this dice result\n",
    "            moves = self.legal_moves(dice=dice_result)\n",
    "            # If the game is over\n",
    "            if self.terminal():\n",
    "                # Victory for player 1\n",
    "                if self.score() < 0:\n",
    "                    if self.verbose:\n",
    "                        print(\"Player 1 wins !!!\")\n",
    "                    return -1\n",
    "                # Victory for player 0\n",
    "                elif self.score() > 0:\n",
    "                    if self.verbose:\n",
    "                        print(\"Player 0 wins !!!\")\n",
    "                    return 1\n",
    "                # Draw\n",
    "                else:\n",
    "                    if self.verbose:\n",
    "                        print(\"Draw...\")\n",
    "                    return 0\n",
    "            \n",
    "            if self.verbose:\n",
    "              print(f'{self.nb_turns}.')\n",
    "              print(f'Player {self.current_player.id} throws the dice. The result is {dice_result}.')\n",
    "\n",
    "            # The game isn't over: rugs are remaining\n",
    "            # We play another move chosen randomly\n",
    "            n = random.randint(0, len(moves)-1)\n",
    "            self.play(moves[n])\n",
    "            self.nb_turns+=1\n",
    "            if self.verbose:\n",
    "                print('\\n')"
   ]
  },
  {
   "cell_type": "markdown",
   "metadata": {},
   "source": [
    "# Implémentations des algorithmes\n",
    "\n",
    "On peut aussi mettre dans un fichier .py et importer ?"
   ]
  },
  {
   "cell_type": "markdown",
   "metadata": {},
   "source": [
    "### Table de transposition\n",
    "\n",
    "Une table de transposition est une hash table indexé par une position dans le plateau et est utilisé pour éviter d'analyser la même position plusieurs fois. \n",
    "\n",
    "(On peut associer chaque état (une configuration du jeu) à un hash code. Ici on va utiliser le hachage de Zobrist. \n",
    "Chaque case de chaque pièce est associée à un nombre aléatoire différent. Le code d'un état est le XOR des nombres aléatoires des pièces présentes sur le plateau de jeu.)\n",
    "          \n",
    "--> A ete ajoute dans classe Board"
   ]
  },
  {
   "cell_type": "markdown",
   "metadata": {},
   "source": [
    "### Aléatoire"
   ]
  },
  {
   "cell_type": "code",
   "execution_count": 2,
   "metadata": {},
   "outputs": [],
   "source": [
    "def rand_strat(board, n_playouts, use_score=False):\n",
    "    dice_result = board.throw_dice()\n",
    "    moves = board.legal_moves(dice_result)\n",
    "    n = random.randint(0, len(moves)-1)\n",
    "    return moves[n]"
   ]
  },
  {
   "cell_type": "markdown",
   "metadata": {},
   "source": [
    "### Flat\n",
    "\n",
    "TO DO :\n",
    "- optimiser \n",
    "- rendre plus propre et pus perso"
   ]
  },
  {
   "cell_type": "code",
   "execution_count": 3,
   "metadata": {
    "id": "LNfV30C2xQEJ"
   },
   "outputs": [],
   "source": [
    "def flat_original(board, n):\n",
    "    \"\"\"\n",
    "    For each move of the current state, \n",
    "    compute the number of playouts that have been won.\n",
    "    \n",
    "    Args:\n",
    "        n (int): Number of playouts.\n",
    "    \"\"\"\n",
    "    dice_result = board.throw_dice()\n",
    "    moves = board.legal_moves(dice_result)\n",
    "    #Just to know which player we are\n",
    "    current_player=board.current_player.id\n",
    "    bestScore = 0\n",
    "    bestMove = 0\n",
    "    for m in (range(len(moves))):\n",
    "        sum = 0\n",
    "        for i in (range(n)):\n",
    "            b = copy.deepcopy(board)\n",
    "            #b.verbose=False\n",
    "            b.play(moves[m])\n",
    "            r = b.playout() # Result of the random game from moves[m]\n",
    "            # player 0 wins : 1, player 1 wins : -1\n",
    "            if current_player == 0:\n",
    "                if r == 1:\n",
    "                    sum+=1\n",
    "            if current_player == 1:\n",
    "                if r == -1:\n",
    "                    sum+=1\n",
    "        if sum > bestScore:\n",
    "            bestScore = sum\n",
    "            bestMove = m\n",
    "    return moves[bestMove]"
   ]
  },
  {
   "cell_type": "code",
   "execution_count": 4,
   "metadata": {},
   "outputs": [],
   "source": [
    "def flat(board, n, use_score=True):\n",
    "    \"\"\"\n",
    "    Get the move with greatest mean after `n` playouts.\n",
    "    \n",
    "    Args:\n",
    "        n (int): Number of playouts.\n",
    "        use_score (bool): Use the real score to compute the score if True, otherwise use the number of wins\n",
    "    \"\"\"\n",
    "\n",
    "    dice_result = board.throw_dice()\n",
    "    moves = board.legal_moves(dice_result)\n",
    "    sumScores = [0.0 for x in range(len(moves))]\n",
    "    nbVisits = [0 for x in range(len(moves))]\n",
    "    current_player = board.current_player.id\n",
    "\n",
    "    # For each playout\n",
    "    for i in range(n):\n",
    "        m = random.randint(0, len(moves)-1) # Choose a random move\n",
    "        b = copy.deepcopy(board)\n",
    "        b.play(moves[m]) # Play the move\n",
    "        r = b.playout() # Result of the random game from moves[m]\n",
    "\n",
    "        if use_score:\n",
    "            score = b.score() # Score of the random game from moves[m] \n",
    "            sumScores[m] += score \n",
    "        else:\n",
    "            if (current_player == 0 and r == 1) or (current_player == 1 and r == -1):\n",
    "                sumScores[m] += 1\n",
    "        nbVisits[m] += 1 \n",
    "\n",
    "    # Get the move with the greatest mean\n",
    "    bestScore = 0\n",
    "    bestMove = 0\n",
    "    for m in range(len(moves)):\n",
    "        score = 0\n",
    "        if nbVisits[m] > 0:\n",
    "            score = sumScores[m] / nbVisits[m]\n",
    "        if score > bestScore:\n",
    "            bestScore = score\n",
    "            bestMove = m\n",
    "\n",
    "    return moves[bestMove]"
   ]
  },
  {
   "cell_type": "markdown",
   "metadata": {},
   "source": [
    "### UCB\n",
    "\n",
    "    TO DO :\n",
    "    - optimiser \n",
    "    - rendre plus propre et pus perso\n",
    "    \n",
    "\n",
    "### Variante UCB \n",
    "\n",
    "utiliser le score moyen plutot que le win rate !\n",
    "\n",
    "ie : dans sumScore au lieu d'ajouter 1 pour victoire, 0 sinon, on va ajouter le nb de points du joueur à la fin de la partie \n",
    "\n",
    "\n",
    "normalisation du score entre 0 et 1\n",
    "\n",
    "On noramlise entre -50 et 50 et on clip"
   ]
  },
  {
   "cell_type": "code",
   "execution_count": 5,
   "metadata": {},
   "outputs": [],
   "source": [
    "def normalize(score):\n",
    "    score = np.clip(score, 50, -50)\n",
    "    return (score - (-50))/(50-(-50))"
   ]
  },
  {
   "cell_type": "code",
   "execution_count": 6,
   "metadata": {},
   "outputs": [],
   "source": [
    "def UCB(board, n, c=0.4, use_score=True):\n",
    "    dice_result = board.throw_dice()\n",
    "    moves = board.legal_moves(dice_result)\n",
    "    sumScores = [0.0 for x in range(len(moves))]\n",
    "    nbVisits = [0 for x in range(len(moves))]\n",
    "    current_player = board.current_player.id\n",
    "    for i in range(n):\n",
    "        bestScore = 0\n",
    "        bestMove = 0\n",
    "        for m in range(len(moves)):\n",
    "            score = 1000000\n",
    "            if nbVisits[m] > 0:\n",
    "                 score = sumScores[m] / nbVisits[m] + c * math.sqrt(math.log(i) / nbVisits[m])\n",
    "            if score > bestScore:\n",
    "                bestScore = score\n",
    "                bestMove = m\n",
    "        b = copy.deepcopy(board)\n",
    "        b.play(moves[bestMove])\n",
    "        r = b.playout()\n",
    "        s = b.score()\n",
    "        if use_score:\n",
    "            sumScores[bestMove] += normalize(s) # Pas de diff entre player 0 or 1, on a l'info qui a gagne selon signe du score\n",
    "        else:\n",
    "            if (current_player == 0 and r == 1) or (current_player == 1 and r == -1):\n",
    "                sumScores[bestMove] += 1\n",
    "\n",
    "        nbVisits[bestMove] += 1\n",
    "        \n",
    "    bestScore = 0\n",
    "    bestMove = 0\n",
    "\n",
    "    # Get the most visited move\n",
    "    for m in range(len(moves)):\n",
    "        score = nbVisits[m]\n",
    "        if score > bestScore:\n",
    "            bestScore = score\n",
    "            bestMove = m\n",
    "    return moves[bestMove]"
   ]
  },
  {
   "cell_type": "markdown",
   "metadata": {},
   "source": [
    "### UCT"
   ]
  },
  {
   "cell_type": "code",
   "execution_count": 10,
   "metadata": {},
   "outputs": [],
   "source": [
    "MaxLegalMoves = 4 * (BOARD_SIZE * BOARD_SIZE) * 12 # 4 orientations * (5x5) pawn move * 12 rug placement\n",
    "Table = {}\n",
    "# (h, (total_num_playouts,\n",
    "#      list num playouts for each move,\n",
    "#      list num wins for each move))\n",
    "        \n",
    "def look(board):\n",
    "    \"\"\"Returns the entry of the board in the transposition table.\"\"\"\n",
    "    return Table.get(board.h, None)\n",
    "\n",
    "def add(board):\n",
    "    \"\"\"Adds an empty entry for the board in the transposition table.\"\"\"\n",
    "    nplayouts = [0.0 for x in range(MaxLegalMoves)]\n",
    "    nwins = [0.0 for x in range(MaxLegalMoves)]\n",
    "    Table[board.h] = [0, nplayouts, nwins]"
   ]
  },
  {
   "cell_type": "code",
   "execution_count": 17,
   "metadata": {},
   "outputs": [],
   "source": [
    "def UCT(board, c=0.4, use_score=False):\n",
    "    if board.terminal():\n",
    "        return board.score()\n",
    "    t = look(board) # [Total nb playouts, list of playouts for each move, list of nwins for each move]\n",
    "    if t != None:\n",
    "        bestValue = -1000000.0\n",
    "        bestMove = 0\n",
    "        dice_result = board.throw_dice()\n",
    "        moves = board.legal_moves(dice_result)\n",
    "        for m in range(len(moves)):\n",
    "            val = 1000000.0\n",
    "            if t[1][m] > 0: # nwins\n",
    "                Q = t[2][m] / t[1][m] # winrate\n",
    "                if board.current_player.id == 1:\n",
    "                    Q = 1 - Q\n",
    "                val = Q + c * math.sqrt(math.log(t[0]) / t[1][m])\n",
    "            if val > bestValue:\n",
    "                bestValue = val\n",
    "                bestMove = m\n",
    "        board.play(moves[bestMove])\n",
    "        res = UCT(board, c)\n",
    "        t[0] += 1\n",
    "        t[1][bestMove] += 1\n",
    "        t[2][bestMove] += res\n",
    "        return res\n",
    "    else:\n",
    "        add(board)\n",
    "        return board.playout()\n",
    "\n",
    "def BestMoveUCT(board, n, c=0.4, use_score=False):\n",
    "    global Table\n",
    "    Table = {}\n",
    "    for i in range(n):\n",
    "        b1 = copy.deepcopy(board)\n",
    "        res = UCT(b1, c)\n",
    "    t = look(board)\n",
    "    dice_result = board.throw_dice()\n",
    "    moves = board.legal_moves(dice_result)\n",
    "    bestMove = moves[0]\n",
    "    bestValue = t[1][0]\n",
    "    for m in range(1, len(moves)):\n",
    "        if (t[1][m] > bestValue):\n",
    "            bestValue = t[1][m]\n",
    "            bestMove = moves[m]\n",
    "    return bestMove"
   ]
  },
  {
   "cell_type": "markdown",
   "metadata": {},
   "source": [
    "### RAVE"
   ]
  },
  {
   "cell_type": "markdown",
   "metadata": {},
   "source": [
    "### AMAF"
   ]
  },
  {
   "cell_type": "code",
   "execution_count": 9,
   "metadata": {},
   "outputs": [
    {
     "ename": "NameError",
     "evalue": "name 'Dx' is not defined",
     "output_type": "error",
     "traceback": [
      "\u001b[0;31m---------------------------------------------------------------------------\u001b[0m",
      "\u001b[0;31mNameError\u001b[0m                                 Traceback (most recent call last)",
      "Input \u001b[0;32mIn [9]\u001b[0m, in \u001b[0;36m<cell line: 27>\u001b[0;34m()\u001b[0m\n\u001b[1;32m     24\u001b[0m         \u001b[38;5;28;01melse\u001b[39;00m:\n\u001b[1;32m     25\u001b[0m             \u001b[38;5;28;01mreturn\u001b[39;00m \u001b[38;5;241m5\u001b[39m \u001b[38;5;241m*\u001b[39m Dx \u001b[38;5;241m*\u001b[39m Dy \u001b[38;5;241m+\u001b[39m \u001b[38;5;241m5\u001b[39m \u001b[38;5;241m*\u001b[39m (Dy \u001b[38;5;241m*\u001b[39m \u001b[38;5;28mself\u001b[39m\u001b[38;5;241m.\u001b[39mx1 \u001b[38;5;241m+\u001b[39m \u001b[38;5;28mself\u001b[39m\u001b[38;5;241m.\u001b[39my1) \u001b[38;5;241m+\u001b[39m direction\n\u001b[0;32m---> 27\u001b[0m MaxCodeLegalMoves \u001b[38;5;241m=\u001b[39m \u001b[38;5;241m2\u001b[39m \u001b[38;5;241m*\u001b[39m \u001b[43mDx\u001b[49m \u001b[38;5;241m*\u001b[39m Dy \u001b[38;5;241m*\u001b[39m \u001b[38;5;241m5\u001b[39m\n\u001b[1;32m     31\u001b[0m \u001b[38;5;28;01mdef\u001b[39;00m \u001b[38;5;21maddAMAF\u001b[39m (board):\n\u001b[1;32m     32\u001b[0m     nplayouts \u001b[38;5;241m=\u001b[39m [\u001b[38;5;241m0.0\u001b[39m \u001b[38;5;28;01mfor\u001b[39;00m x \u001b[38;5;129;01min\u001b[39;00m \u001b[38;5;28mrange\u001b[39m (MaxLegalMoves)]\n",
      "\u001b[0;31mNameError\u001b[0m: name 'Dx' is not defined"
     ]
    }
   ],
   "source": [
    "def playoutAMAF (board, played):\n",
    "    while (True):\n",
    "        moves = board.legalMoves ()\n",
    "        if len (moves) == 0 or board.terminal ():\n",
    "            return board.score ()\n",
    "        n = random.randint (0, len (moves) - 1)\n",
    "        played.append (moves [n].code (board))\n",
    "        board.play (moves [n])\n",
    "\n",
    "def code (self, board):\n",
    "        direction = 0\n",
    "        if self.y2 > self.y1:\n",
    "            if board.board [self.x2] [self.y2] == EMPTY:\n",
    "                direction = 1\n",
    "            else:\n",
    "                direction = 2\n",
    "        if self.y2 < self.y1:\n",
    "             if board.board [self.x2] [self.y2] == EMPTY:\n",
    "                direction = 3\n",
    "             else:\n",
    "                 direction = 4\n",
    "        if self.color == WHITE:\n",
    "            return 5 * (Dy * self.x1 + self.y1) + direction\n",
    "        else:\n",
    "            return 5 * Dx * Dy + 5 * (Dy * self.x1 + self.y1) + direction\n",
    "\n",
    "MaxCodeLegalMoves = 2 * Dx * Dy * 5\n",
    "\n",
    " \n",
    "\n",
    "def addAMAF (board):\n",
    "    nplayouts = [0.0 for x in range (MaxLegalMoves)]\n",
    "    nwins = [0.0 for x in range (MaxLegalMoves)]\n",
    "    nplayoutsAMAF = [0.0 for x in range (MaxCodeLegalMoves)]\n",
    "    nwinsAMAF = [0.0 for x in range (MaxCodeLegalMoves)]\n",
    "    Table [board.h] = [0, nplayouts, nwins, nplayoutsAMAF, nwinsAMAF]\n",
    "\n",
    "\n",
    "def updateAMAF (t, played, res):\n",
    "    for i in range (len (played)):\n",
    "        code = played [i]\n",
    "        seen = False\n",
    "        for j in range (i):\n",
    "            if played [j] == code:\n",
    "                seen = True\n",
    "        if not seen:\n",
    "            t [3] [code] += 1\n",
    "            t [4] [code] += res"
   ]
  },
  {
   "cell_type": "code",
   "execution_count": 10,
   "metadata": {},
   "outputs": [],
   "source": [
    "def RAVE (board, played):\n",
    "    if (board.terminal ()):\n",
    "        return board.score ()\n",
    "    t = look (board)\n",
    "    if t != None:\n",
    "        bestValue = -1000000.0\n",
    "        best = 0\n",
    "        moves = board.legalMoves ()\n",
    "        bestcode = moves [0].code (board)\n",
    "        for i in range (0, len (moves)):\n",
    "            val = 1000000.0\n",
    "            code = moves [i].code (board)\n",
    "            if t [3] [code] > 0:\n",
    "                beta = t [3] [code] / (t [1] [i] + t [3] [code] + 1e-5 * t [1] [i] * t [3] [code])\n",
    "                Q = 1\n",
    "                if t [1] [i] > 0:\n",
    "                    Q = t [2] [i] / t [1] [i]\n",
    "                    if board.turn == BLACK:\n",
    "                        Q = 1 - Q\n",
    "\n",
    "                        AMAF = t [4] [code] / t [3] [code]\n",
    "                if board.turn == BLACK:\n",
    "                    AMAF = 1 - AMAF\n",
    "                val = (1.0 - beta) * Q + beta * AMAF\n",
    "            if val > bestValue:\n",
    "                bestValue = val\n",
    "                best = i\n",
    "                bestcode = code\n",
    "        board.play (moves [best])\n",
    "        played.append (bestcode)\n",
    "        res = RAVE (board, played)\n",
    "        t [0] += 1\n",
    "        t [1] [best] += 1\n",
    "        t [2] [best] += res\n",
    "        updateAMAF (t, played, res)\n",
    "        return res\n",
    "    else:\n",
    "        addAMAF (board)\n",
    "        return playoutAMAF (board, played)\n",
    "\n",
    "\n",
    "def BestMoveRAVE (board, n):\n",
    "    global Table\n",
    "    Table = {}\n",
    "    for i in range (n):\n",
    "        b1 = copy.deepcopy (board)\n",
    "        res = RAVE (b1, [])\n",
    "    t = look (board)\n",
    "    moves = board.legalMoves ()\n",
    "    best = moves [0]\n",
    "    bestValue = t [1] [0]\n",
    "    for i in range (1, len(moves)):\n",
    "        if (t [1] [i] > bestValue):\n",
    "            bestValue = t [1] [i]\n",
    "            best = moves [i]\n",
    "    return best"
   ]
  },
  {
   "cell_type": "markdown",
   "metadata": {},
   "source": [
    "### GRAVE"
   ]
  },
  {
   "cell_type": "code",
   "execution_count": 11,
   "metadata": {},
   "outputs": [],
   "source": [
    "def GRAVE (board, played, tref):\n",
    "    if (board.terminal ()):\n",
    "        return board.score ()\n",
    "    t = look (board)\n",
    "    if t != None:\n",
    "        tr = tref\n",
    "        if t [0] > 50:\n",
    "            tr = t\n",
    "        bestValue = -1000000.0\n",
    "        best = 0\n",
    "        moves = board.legalMoves ()\n",
    "        bestcode = moves [0].code (board)\n",
    "        for i in range (0, len (moves)):\n",
    "            val = 1000000.0\n",
    "            code = moves [i].code ()\n",
    "            if tr [3] [code] > 0:\n",
    "                beta = tr [3] [code] / (t [1] [i] + tr [3] [code] + 1e-5 * t [1] [i] * tr [3] [code])\n",
    "                Q = 1\n",
    "                if t [1] [i] > 0:\n",
    "                    Q = t [2] [i] / t [1] [i]\n",
    "                    if board.turn == BLACK:\n",
    "                        Q = 1 - Q\n",
    "                AMAF = tr [4] [code] / tr [3] [code]\n",
    "                if board.turn == BLACK:\n",
    "                    AMAF = 1 - AMAF\n",
    "                val = (1.0 - beta) * Q + beta * AMAF\n",
    "            if val > bestValue:\n",
    "                bestValue = val\n",
    "                best = i\n",
    "                bestcode = code\n",
    "        board.play (moves [best])\n",
    "        played.append (bestcode)\n",
    "        res = GRAVE (board, played, tr)\n",
    "        t [0] += 1\n",
    "        t [1] [best] += 1\n",
    "        t [2] [best] += res\n",
    "        updateAMAF (t, played, res)\n",
    "        return res\n",
    "    else:\n",
    "        addAMAF (board)\n",
    "        return playoutAMAF (board, played)"
   ]
  },
  {
   "cell_type": "markdown",
   "metadata": {},
   "source": [
    "# Expériences\n",
    "\n",
    "- Aléatoire\n",
    "- Flat\n",
    "- Flat-score\n",
    "- UCB\n",
    "- UCB-score\n",
    "- UCT"
   ]
  },
  {
   "cell_type": "markdown",
   "metadata": {},
   "source": [
    "## Fonction pour lancer une partie"
   ]
  },
  {
   "cell_type": "code",
   "execution_count": 19,
   "metadata": {},
   "outputs": [],
   "source": [
    "def play_game(n_games, strategy1, strategy2, n_playouts=None, use_score1=False, use_score2=False):\n",
    "    \"\"\"Returns win rate for player 0\"\"\"\n",
    "    n_wins1 = 0\n",
    "    n_wins2 = 0\n",
    "    draw = 0\n",
    "    s = 0\n",
    "    for i in tqdm(range(n_games)):\n",
    "        game = Board(verbose=False)\n",
    "        i=1\n",
    "        while(not game.terminal()):\n",
    "            #print(f'Tour {i}')\n",
    "            i+=1\n",
    "            current_player=game.current_player.id\n",
    "            #print(current_player)\n",
    "            if current_player == 0:\n",
    "                best_move = strategy1(game, n_playouts, use_score=use_score1)\n",
    "            if current_player == 1:\n",
    "                best_move = strategy2(game, n_playouts, use_score=use_score2)\n",
    "            game.play(best_move)\n",
    "        score = game.score()\n",
    "        #print(f'score = {score}')\n",
    "        if score > 0: #victory for player 0\n",
    "            n_wins1 += 1\n",
    "        elif score < 0:\n",
    "            n_wins2 +=1\n",
    "        elif score == 0:\n",
    "            draw +=1\n",
    "        s += score\n",
    "        #print(score, normalize(score))\n",
    "    print(f'Winrate of player 0 : {n_wins1/n_games}')\n",
    "    print(f'Winrate of player 1 : {n_wins2/n_games}')\n",
    "    print(f'Number of draw : {draw}')\n",
    "    print(f'Mean score : {s/n_games}')\n",
    "    \n",
    "    return n_wins1/n_games, n_wins2/n_games, draw, s/n_games"
   ]
  },
  {
   "cell_type": "code",
   "execution_count": 13,
   "metadata": {},
   "outputs": [],
   "source": [
    "n_games = 10"
   ]
  },
  {
   "cell_type": "code",
   "execution_count": 14,
   "metadata": {},
   "outputs": [],
   "source": [
    "start = time.time()"
   ]
  },
  {
   "cell_type": "markdown",
   "metadata": {},
   "source": [
    "## Aléatoire VS Aléatoire"
   ]
  },
  {
   "cell_type": "code",
   "execution_count": 8,
   "metadata": {
    "scrolled": true
   },
   "outputs": [
    {
     "name": "stderr",
     "output_type": "stream",
     "text": [
      "100%|███████████████████████████████████████| 2000/2000 [00:27<00:00, 72.63it/s]"
     ]
    },
    {
     "name": "stdout",
     "output_type": "stream",
     "text": [
      "Winrate of player 0 : 0.5425\n",
      "Winrate of player 1 : 0.4405\n",
      "Number of draw : 34\n",
      "Mean score : 3.1895\n"
     ]
    },
    {
     "name": "stderr",
     "output_type": "stream",
     "text": [
      "\n"
     ]
    },
    {
     "data": {
      "text/plain": [
       "(0.5425, 0.4405, 34, 3.1895)"
      ]
     },
     "execution_count": 8,
     "metadata": {},
     "output_type": "execute_result"
    }
   ],
   "source": [
    "play_game(n_games=2000, strategy1=rand_strat, strategy2=rand_strat)"
   ]
  },
  {
   "cell_type": "markdown",
   "metadata": {},
   "source": [
    "## Flat VS Aléatoire"
   ]
  },
  {
   "cell_type": "markdown",
   "metadata": {},
   "source": [
    "1 simulation de n parties va prendre \n",
    "\n",
    "n x 16 tours x 20 (~ legal moves/tour) x m playouts\n",
    "\n",
    "Pour n = 100 parties\n",
    "et m = 1000 playouts\n",
    "\n",
    "ça fait 32 000 000 parties\n",
    "\n",
    "et encore je compte pas le joueur aléatoire ...\n",
    "\n",
    "\n",
    "Pour n = 10 parties\n",
    "et m = 100 playouts\n",
    "\n",
    "ça fait 320 000 parties"
   ]
  },
  {
   "cell_type": "markdown",
   "metadata": {},
   "source": [
    "10 000 parties en taille 5x5 ça prend : 2min14\n",
    "\n",
    "en taille 7x7 ça prend : 3min50"
   ]
  },
  {
   "cell_type": "code",
   "execution_count": 23,
   "metadata": {},
   "outputs": [],
   "source": [
    "n_games = 10\n",
    "start = time.time()"
   ]
  },
  {
   "cell_type": "code",
   "execution_count": 24,
   "metadata": {
    "collapsed": true,
    "id": "fPcVjMbOP-Ns"
   },
   "outputs": [
    {
     "name": "stdout",
     "output_type": "stream",
     "text": [
      "#### Results for 100 playouts. Flat VS Random. ####\n"
     ]
    },
    {
     "name": "stderr",
     "output_type": "stream",
     "text": [
      "100%|██████████| 10/10 [02:09<00:00, 12.92s/it]\n"
     ]
    },
    {
     "name": "stdout",
     "output_type": "stream",
     "text": [
      "Winrate of player 0 : 0.9\n",
      "Winrate of player 1 : 0.1\n",
      "Number of draw : 0\n",
      "Mean score : 16.9\n",
      "#### Results for 200 playouts. Flat VS Random. ####\n"
     ]
    },
    {
     "name": "stderr",
     "output_type": "stream",
     "text": [
      "100%|██████████| 10/10 [04:21<00:00, 26.14s/it]\n"
     ]
    },
    {
     "name": "stdout",
     "output_type": "stream",
     "text": [
      "Winrate of player 0 : 1.0\n",
      "Winrate of player 1 : 0.0\n",
      "Number of draw : 0\n",
      "Mean score : 34.4\n",
      "#### Results for 500 playouts. Flat VS Random. ####\n"
     ]
    },
    {
     "name": "stderr",
     "output_type": "stream",
     "text": [
      "100%|██████████| 10/10 [10:37<00:00, 63.77s/it]"
     ]
    },
    {
     "name": "stdout",
     "output_type": "stream",
     "text": [
      "Winrate of player 0 : 1.0\n",
      "Winrate of player 1 : 0.0\n",
      "Number of draw : 0\n",
      "Mean score : 28.1\n"
     ]
    },
    {
     "name": "stderr",
     "output_type": "stream",
     "text": [
      "\n"
     ]
    }
   ],
   "source": [
    "#41:10 pour n_games = 100 et n_playouts = 10 pour un plateau 5x5\n",
    "for n in [100, 200, 500]:\n",
    "    print(f'#### Results for {n} playouts. Flat VS Random. ####')\n",
    "    play_game(n_games, strategy1=flat, strategy2=rand_strat, n_playouts=n)"
   ]
  },
  {
   "cell_type": "markdown",
   "metadata": {},
   "source": [
    "## Flat_score VS Aléatoire"
   ]
  },
  {
   "cell_type": "code",
   "execution_count": 25,
   "metadata": {
    "collapsed": true
   },
   "outputs": [
    {
     "name": "stdout",
     "output_type": "stream",
     "text": [
      "#### Results for 100 playouts. Flat VS Random. ####\n"
     ]
    },
    {
     "name": "stderr",
     "output_type": "stream",
     "text": [
      "100%|██████████| 10/10 [02:09<00:00, 12.92s/it]\n"
     ]
    },
    {
     "name": "stdout",
     "output_type": "stream",
     "text": [
      "Winrate of player 0 : 1.0\n",
      "Winrate of player 1 : 0.0\n",
      "Number of draw : 0\n",
      "Mean score : 45.8\n",
      "#### Results for 200 playouts. Flat VS Random. ####\n"
     ]
    },
    {
     "name": "stderr",
     "output_type": "stream",
     "text": [
      "100%|██████████| 10/10 [04:16<00:00, 25.65s/it]\n"
     ]
    },
    {
     "name": "stdout",
     "output_type": "stream",
     "text": [
      "Winrate of player 0 : 1.0\n",
      "Winrate of player 1 : 0.0\n",
      "Number of draw : 0\n",
      "Mean score : 53.9\n",
      "#### Results for 500 playouts. Flat VS Random. ####\n"
     ]
    },
    {
     "name": "stderr",
     "output_type": "stream",
     "text": [
      "100%|██████████| 10/10 [10:40<00:00, 64.04s/it]"
     ]
    },
    {
     "name": "stdout",
     "output_type": "stream",
     "text": [
      "Winrate of player 0 : 1.0\n",
      "Winrate of player 1 : 0.0\n",
      "Number of draw : 0\n",
      "Mean score : 56.4\n"
     ]
    },
    {
     "name": "stderr",
     "output_type": "stream",
     "text": [
      "\r",
      "  5%|██▏                                        | 5/100 [00:56<18:34, 11.73s/it]"
     ]
    }
   ],
   "source": [
    "for n in [100, 200, 500]:\n",
    "    print(f'#### Results for {n} playouts. Flat VS Random. ####')\n",
    "    play_game(n_games, strategy1=flat, strategy2=rand_strat, n_playouts=n, use_score1=True)"
   ]
  },
  {
   "cell_type": "markdown",
   "metadata": {},
   "source": [
    "## Flat VS Flat_score\n",
    "\n",
    "PB : Flat score VS flat score = tjrs le joueur 1 qui gagne !!!"
   ]
  },
  {
   "cell_type": "code",
   "execution_count": 49,
   "metadata": {
    "collapsed": true
   },
   "outputs": [
    {
     "name": "stdout",
     "output_type": "stream",
     "text": [
      "#### Results for 2 playouts. Flat VS Random. ####\n"
     ]
    },
    {
     "name": "stderr",
     "output_type": "stream",
     "text": [
      "  1%|▍                                          | 1/100 [00:00<01:13,  1.35it/s]"
     ]
    },
    {
     "name": "stdout",
     "output_type": "stream",
     "text": [
      "score = 23\n"
     ]
    },
    {
     "name": "stderr",
     "output_type": "stream",
     "text": [
      "\r",
      "  2%|▊                                          | 2/100 [00:01<01:09,  1.41it/s]"
     ]
    },
    {
     "name": "stdout",
     "output_type": "stream",
     "text": [
      "score = 7\n"
     ]
    },
    {
     "name": "stderr",
     "output_type": "stream",
     "text": [
      "\r",
      "  3%|█▎                                         | 3/100 [00:02<01:07,  1.43it/s]"
     ]
    },
    {
     "name": "stdout",
     "output_type": "stream",
     "text": [
      "score = 15\n"
     ]
    },
    {
     "name": "stderr",
     "output_type": "stream",
     "text": [
      "  5%|██▏                                        | 5/100 [00:03<01:06,  1.43it/s]"
     ]
    },
    {
     "name": "stdout",
     "output_type": "stream",
     "text": [
      "score = 35\n",
      "score = 52\n"
     ]
    },
    {
     "name": "stderr",
     "output_type": "stream",
     "text": [
      "\r",
      "  6%|██▌                                        | 6/100 [00:04<01:05,  1.43it/s]"
     ]
    },
    {
     "name": "stdout",
     "output_type": "stream",
     "text": [
      "score = 35\n"
     ]
    },
    {
     "name": "stderr",
     "output_type": "stream",
     "text": [
      "\r",
      "  7%|███                                        | 7/100 [00:04<01:05,  1.43it/s]"
     ]
    },
    {
     "name": "stdout",
     "output_type": "stream",
     "text": [
      "score = 46\n"
     ]
    },
    {
     "name": "stderr",
     "output_type": "stream",
     "text": [
      " 10%|████▏                                     | 10/100 [00:07<01:04,  1.40it/s]"
     ]
    },
    {
     "name": "stdout",
     "output_type": "stream",
     "text": [
      "score = 30\n",
      "score = -4\n",
      "score = 19\n"
     ]
    },
    {
     "name": "stderr",
     "output_type": "stream",
     "text": [
      " 12%|█████                                     | 12/100 [00:08<01:01,  1.43it/s]"
     ]
    },
    {
     "name": "stdout",
     "output_type": "stream",
     "text": [
      "score = 63\n",
      "score = 41\n"
     ]
    },
    {
     "name": "stderr",
     "output_type": "stream",
     "text": [
      " 14%|█████▉                                    | 14/100 [00:09<00:59,  1.45it/s]"
     ]
    },
    {
     "name": "stdout",
     "output_type": "stream",
     "text": [
      "score = 23\n",
      "score = 5\n"
     ]
    },
    {
     "name": "stderr",
     "output_type": "stream",
     "text": [
      " 16%|██████▋                                   | 16/100 [00:11<00:57,  1.46it/s]"
     ]
    },
    {
     "name": "stdout",
     "output_type": "stream",
     "text": [
      "score = 17\n",
      "score = 20\n"
     ]
    },
    {
     "name": "stderr",
     "output_type": "stream",
     "text": [
      " 18%|███████▌                                  | 18/100 [00:12<00:56,  1.46it/s]"
     ]
    },
    {
     "name": "stdout",
     "output_type": "stream",
     "text": [
      "score = 25\n",
      "score = 17\n"
     ]
    },
    {
     "name": "stderr",
     "output_type": "stream",
     "text": [
      " 20%|████████▍                                 | 20/100 [00:13<00:55,  1.45it/s]"
     ]
    },
    {
     "name": "stdout",
     "output_type": "stream",
     "text": [
      "score = 25\n",
      "score = 18\n"
     ]
    },
    {
     "name": "stderr",
     "output_type": "stream",
     "text": [
      " 22%|█████████▏                                | 22/100 [00:15<00:53,  1.46it/s]"
     ]
    },
    {
     "name": "stdout",
     "output_type": "stream",
     "text": [
      "score = 65\n",
      "score = 39\n"
     ]
    },
    {
     "name": "stderr",
     "output_type": "stream",
     "text": [
      " 24%|██████████                                | 24/100 [00:16<00:52,  1.46it/s]"
     ]
    },
    {
     "name": "stdout",
     "output_type": "stream",
     "text": [
      "score = 22\n",
      "score = 2\n"
     ]
    },
    {
     "name": "stderr",
     "output_type": "stream",
     "text": [
      "\r",
      " 25%|██████████▌                               | 25/100 [00:17<00:51,  1.46it/s]"
     ]
    },
    {
     "name": "stdout",
     "output_type": "stream",
     "text": [
      "score = -11\n"
     ]
    },
    {
     "name": "stderr",
     "output_type": "stream",
     "text": [
      "\r",
      " 26%|██████████▉                               | 26/100 [00:18<00:50,  1.46it/s]"
     ]
    },
    {
     "name": "stdout",
     "output_type": "stream",
     "text": [
      "score = 26\n"
     ]
    },
    {
     "name": "stderr",
     "output_type": "stream",
     "text": [
      " 28%|███████████▊                              | 28/100 [00:19<00:50,  1.43it/s]"
     ]
    },
    {
     "name": "stdout",
     "output_type": "stream",
     "text": [
      "score = 44\n",
      "score = 30\n"
     ]
    },
    {
     "name": "stderr",
     "output_type": "stream",
     "text": [
      "\r",
      " 29%|████████████▏                             | 29/100 [00:20<00:49,  1.43it/s]"
     ]
    },
    {
     "name": "stdout",
     "output_type": "stream",
     "text": [
      "score = 19\n"
     ]
    },
    {
     "name": "stderr",
     "output_type": "stream",
     "text": [
      "\r",
      " 30%|████████████▌                             | 30/100 [00:20<00:48,  1.43it/s]"
     ]
    },
    {
     "name": "stdout",
     "output_type": "stream",
     "text": [
      "score = 38\n"
     ]
    },
    {
     "name": "stderr",
     "output_type": "stream",
     "text": [
      "\r",
      " 31%|█████████████                             | 31/100 [00:21<00:48,  1.43it/s]"
     ]
    },
    {
     "name": "stdout",
     "output_type": "stream",
     "text": [
      "score = 10\n"
     ]
    },
    {
     "name": "stderr",
     "output_type": "stream",
     "text": [
      " 33%|█████████████▊                            | 33/100 [00:22<00:46,  1.43it/s]"
     ]
    },
    {
     "name": "stdout",
     "output_type": "stream",
     "text": [
      "score = 60\n",
      "score = 19\n"
     ]
    },
    {
     "name": "stderr",
     "output_type": "stream",
     "text": [
      "\r",
      " 34%|██████████████▎                           | 34/100 [00:23<00:45,  1.44it/s]"
     ]
    },
    {
     "name": "stdout",
     "output_type": "stream",
     "text": [
      "score = 7\n"
     ]
    },
    {
     "name": "stderr",
     "output_type": "stream",
     "text": [
      "\r",
      " 35%|██████████████▋                           | 35/100 [00:24<00:46,  1.41it/s]"
     ]
    },
    {
     "name": "stdout",
     "output_type": "stream",
     "text": [
      "score = 32\n"
     ]
    },
    {
     "name": "stderr",
     "output_type": "stream",
     "text": [
      "\r",
      " 36%|███████████████                           | 36/100 [00:25<00:45,  1.42it/s]"
     ]
    },
    {
     "name": "stdout",
     "output_type": "stream",
     "text": [
      "score = 15\n"
     ]
    },
    {
     "name": "stderr",
     "output_type": "stream",
     "text": [
      " 38%|███████████████▉                          | 38/100 [00:26<00:43,  1.43it/s]"
     ]
    },
    {
     "name": "stdout",
     "output_type": "stream",
     "text": [
      "score = 47\n",
      "score = 1\n"
     ]
    },
    {
     "name": "stderr",
     "output_type": "stream",
     "text": [
      "\r",
      " 39%|████████████████▍                         | 39/100 [00:27<00:42,  1.44it/s]"
     ]
    },
    {
     "name": "stdout",
     "output_type": "stream",
     "text": [
      "score = 18\n"
     ]
    },
    {
     "name": "stderr",
     "output_type": "stream",
     "text": [
      " 42%|█████████████████▋                        | 42/100 [00:29<00:40,  1.44it/s]"
     ]
    },
    {
     "name": "stdout",
     "output_type": "stream",
     "text": [
      "score = 67\n",
      "score = -57\n",
      "score = 43\n"
     ]
    },
    {
     "name": "stderr",
     "output_type": "stream",
     "text": [
      " 44%|██████████████████▍                       | 44/100 [00:30<00:39,  1.42it/s]"
     ]
    },
    {
     "name": "stdout",
     "output_type": "stream",
     "text": [
      "score = 2\n",
      "score = -45\n"
     ]
    },
    {
     "name": "stderr",
     "output_type": "stream",
     "text": [
      "\r",
      " 45%|██████████████████▉                       | 45/100 [00:31<00:38,  1.43it/s]"
     ]
    },
    {
     "name": "stdout",
     "output_type": "stream",
     "text": [
      "score = 48\n"
     ]
    },
    {
     "name": "stderr",
     "output_type": "stream",
     "text": [
      " 48%|████████████████████▏                     | 48/100 [00:33<00:36,  1.44it/s]"
     ]
    },
    {
     "name": "stdout",
     "output_type": "stream",
     "text": [
      "score = 11\n",
      "score = 31\n",
      "score = 24\n"
     ]
    },
    {
     "name": "stderr",
     "output_type": "stream",
     "text": [
      " 50%|█████████████████████                     | 50/100 [00:34<00:34,  1.44it/s]"
     ]
    },
    {
     "name": "stdout",
     "output_type": "stream",
     "text": [
      "score = 26\n",
      "score = -22\n"
     ]
    },
    {
     "name": "stderr",
     "output_type": "stream",
     "text": [
      "\r",
      " 51%|█████████████████████▍                    | 51/100 [00:35<00:34,  1.44it/s]"
     ]
    },
    {
     "name": "stdout",
     "output_type": "stream",
     "text": [
      "score = 1\n"
     ]
    },
    {
     "name": "stderr",
     "output_type": "stream",
     "text": [
      " 53%|██████████████████████▎                   | 53/100 [00:36<00:33,  1.42it/s]"
     ]
    },
    {
     "name": "stdout",
     "output_type": "stream",
     "text": [
      "score = 20\n",
      "score = -10\n"
     ]
    },
    {
     "name": "stderr",
     "output_type": "stream",
     "text": [
      " 55%|███████████████████████                   | 55/100 [00:38<00:31,  1.43it/s]"
     ]
    },
    {
     "name": "stdout",
     "output_type": "stream",
     "text": [
      "score = 20\n",
      "score = 38\n"
     ]
    },
    {
     "name": "stderr",
     "output_type": "stream",
     "text": [
      "\r",
      " 56%|███████████████████████▌                  | 56/100 [00:39<00:30,  1.43it/s]"
     ]
    },
    {
     "name": "stdout",
     "output_type": "stream",
     "text": [
      "score = 20\n",
      "score = 52"
     ]
    },
    {
     "name": "stderr",
     "output_type": "stream",
     "text": [
      "\r",
      " 57%|███████████████████████▉                  | 57/100 [00:39<00:29,  1.44it/s]"
     ]
    },
    {
     "name": "stdout",
     "output_type": "stream",
     "text": [
      "\n"
     ]
    },
    {
     "name": "stderr",
     "output_type": "stream",
     "text": [
      "\r",
      " 58%|████████████████████████▎                 | 58/100 [00:40<00:29,  1.44it/s]"
     ]
    },
    {
     "name": "stdout",
     "output_type": "stream",
     "text": [
      "score = 43\n"
     ]
    },
    {
     "name": "stderr",
     "output_type": "stream",
     "text": [
      " 60%|█████████████████████████▏                | 60/100 [00:41<00:27,  1.45it/s]"
     ]
    },
    {
     "name": "stdout",
     "output_type": "stream",
     "text": [
      "score = 51\n",
      "score = 20\n"
     ]
    },
    {
     "name": "stderr",
     "output_type": "stream",
     "text": [
      " 62%|██████████████████████████                | 62/100 [00:43<00:26,  1.43it/s]"
     ]
    },
    {
     "name": "stdout",
     "output_type": "stream",
     "text": [
      "score = 38\n",
      "score = 61\n"
     ]
    },
    {
     "name": "stderr",
     "output_type": "stream",
     "text": [
      " 64%|██████████████████████████▉               | 64/100 [00:44<00:25,  1.43it/s]"
     ]
    },
    {
     "name": "stdout",
     "output_type": "stream",
     "text": [
      "score = 15\n",
      "score = 52\n"
     ]
    },
    {
     "name": "stderr",
     "output_type": "stream",
     "text": [
      "\r",
      " 65%|███████████████████████████▎              | 65/100 [00:45<00:24,  1.43it/s]"
     ]
    },
    {
     "name": "stdout",
     "output_type": "stream",
     "text": [
      "score = 52\n",
      "score = 17"
     ]
    },
    {
     "name": "stderr",
     "output_type": "stream",
     "text": [
      " 67%|████████████████████████████▏             | 67/100 [00:46<00:23,  1.43it/s]"
     ]
    },
    {
     "name": "stdout",
     "output_type": "stream",
     "text": [
      "\n",
      "score = 21\n"
     ]
    },
    {
     "name": "stderr",
     "output_type": "stream",
     "text": [
      "\r",
      " 68%|████████████████████████████▌             | 68/100 [00:47<00:22,  1.45it/s]"
     ]
    },
    {
     "name": "stdout",
     "output_type": "stream",
     "text": [
      "score = 23\n"
     ]
    },
    {
     "name": "stderr",
     "output_type": "stream",
     "text": [
      " 70%|█████████████████████████████▍            | 70/100 [00:48<00:20,  1.44it/s]"
     ]
    },
    {
     "name": "stdout",
     "output_type": "stream",
     "text": [
      "score = 31\n",
      "score = 21\n"
     ]
    },
    {
     "name": "stderr",
     "output_type": "stream",
     "text": [
      " 72%|██████████████████████████████▏           | 72/100 [00:50<00:19,  1.45it/s]"
     ]
    },
    {
     "name": "stdout",
     "output_type": "stream",
     "text": [
      "score = 10\n",
      "score = -17\n"
     ]
    },
    {
     "name": "stderr",
     "output_type": "stream",
     "text": [
      " 74%|███████████████████████████████           | 74/100 [00:51<00:17,  1.45it/s]"
     ]
    },
    {
     "name": "stdout",
     "output_type": "stream",
     "text": [
      "score = 39\n",
      "score = 53\n"
     ]
    },
    {
     "name": "stderr",
     "output_type": "stream",
     "text": [
      " 76%|███████████████████████████████▉          | 76/100 [00:52<00:16,  1.46it/s]"
     ]
    },
    {
     "name": "stdout",
     "output_type": "stream",
     "text": [
      "score = 34\n",
      "score = 25\n"
     ]
    },
    {
     "name": "stderr",
     "output_type": "stream",
     "text": [
      "\r",
      " 77%|████████████████████████████████▎         | 77/100 [00:53<00:15,  1.46it/s]"
     ]
    },
    {
     "name": "stdout",
     "output_type": "stream",
     "text": [
      "score = 64\n"
     ]
    },
    {
     "name": "stderr",
     "output_type": "stream",
     "text": [
      "\r",
      " 78%|████████████████████████████████▊         | 78/100 [00:54<00:15,  1.44it/s]"
     ]
    },
    {
     "name": "stdout",
     "output_type": "stream",
     "text": [
      "score = -3\n"
     ]
    },
    {
     "name": "stderr",
     "output_type": "stream",
     "text": [
      "\r",
      " 79%|█████████████████████████████████▏        | 79/100 [00:54<00:14,  1.44it/s]"
     ]
    },
    {
     "name": "stdout",
     "output_type": "stream",
     "text": [
      "score = 1\n"
     ]
    },
    {
     "name": "stderr",
     "output_type": "stream",
     "text": [
      "\r",
      " 80%|█████████████████████████████████▌        | 80/100 [00:55<00:13,  1.45it/s]"
     ]
    },
    {
     "name": "stdout",
     "output_type": "stream",
     "text": [
      "score = 28\n"
     ]
    },
    {
     "name": "stderr",
     "output_type": "stream",
     "text": [
      " 83%|██████████████████████████████████▊       | 83/100 [00:57<00:11,  1.44it/s]"
     ]
    },
    {
     "name": "stdout",
     "output_type": "stream",
     "text": [
      "score = 39\n",
      "score = 45\n",
      "score = 34\n"
     ]
    },
    {
     "name": "stderr",
     "output_type": "stream",
     "text": [
      "\r",
      " 84%|███████████████████████████████████▎      | 84/100 [00:58<00:11,  1.43it/s]"
     ]
    },
    {
     "name": "stdout",
     "output_type": "stream",
     "text": [
      "score = -65\n"
     ]
    },
    {
     "name": "stderr",
     "output_type": "stream",
     "text": [
      "\r",
      " 85%|███████████████████████████████████▋      | 85/100 [00:59<00:10,  1.42it/s]"
     ]
    },
    {
     "name": "stdout",
     "output_type": "stream",
     "text": [
      "score = 10\n"
     ]
    },
    {
     "name": "stderr",
     "output_type": "stream",
     "text": [
      " 87%|████████████████████████████████████▌     | 87/100 [01:00<00:09,  1.42it/s]"
     ]
    },
    {
     "name": "stdout",
     "output_type": "stream",
     "text": [
      "score = 33\n",
      "score = 22\n"
     ]
    },
    {
     "name": "stderr",
     "output_type": "stream",
     "text": [
      " 89%|█████████████████████████████████████▍    | 89/100 [01:01<00:07,  1.43it/s]"
     ]
    },
    {
     "name": "stdout",
     "output_type": "stream",
     "text": [
      "score = 55\n",
      "score = 61\n"
     ]
    },
    {
     "name": "stderr",
     "output_type": "stream",
     "text": [
      " 91%|██████████████████████████████████████▏   | 91/100 [01:03<00:06,  1.45it/s]"
     ]
    },
    {
     "name": "stdout",
     "output_type": "stream",
     "text": [
      "score = -27\n",
      "score = 8\n"
     ]
    },
    {
     "name": "stderr",
     "output_type": "stream",
     "text": [
      "\r",
      " 92%|██████████████████████████████████████▋   | 92/100 [01:03<00:05,  1.46it/s]"
     ]
    },
    {
     "name": "stdout",
     "output_type": "stream",
     "text": [
      "score = 2\n"
     ]
    },
    {
     "name": "stderr",
     "output_type": "stream",
     "text": [
      " 95%|███████████████████████████████████████▉  | 95/100 [01:06<00:03,  1.45it/s]"
     ]
    },
    {
     "name": "stdout",
     "output_type": "stream",
     "text": [
      "score = 19\n",
      "score = 19\n",
      "score = -20\n"
     ]
    },
    {
     "name": "stderr",
     "output_type": "stream",
     "text": [
      " 97%|████████████████████████████████████████▋ | 97/100 [01:07<00:02,  1.48it/s]"
     ]
    },
    {
     "name": "stdout",
     "output_type": "stream",
     "text": [
      "score = 9\n",
      "score = 10\n"
     ]
    },
    {
     "name": "stderr",
     "output_type": "stream",
     "text": [
      "\r",
      " 98%|█████████████████████████████████████████▏| 98/100 [01:08<00:01,  1.49it/s]"
     ]
    },
    {
     "name": "stdout",
     "output_type": "stream",
     "text": [
      "score = 39\n"
     ]
    },
    {
     "name": "stderr",
     "output_type": "stream",
     "text": [
      "\r",
      " 99%|█████████████████████████████████████████▌| 99/100 [01:08<00:00,  1.49it/s]"
     ]
    },
    {
     "name": "stdout",
     "output_type": "stream",
     "text": [
      "score = 59\n"
     ]
    },
    {
     "name": "stderr",
     "output_type": "stream",
     "text": [
      "100%|█████████████████████████████████████████| 100/100 [01:09<00:00,  1.44it/s]"
     ]
    },
    {
     "name": "stdout",
     "output_type": "stream",
     "text": [
      "score = 27\n",
      "Winrate of player 0 : 0.89\n",
      "Winrate of player 1 : 0.11\n",
      "Number of draw : 0\n",
      "Mean score : 23.22\n"
     ]
    },
    {
     "name": "stderr",
     "output_type": "stream",
     "text": [
      "\n"
     ]
    }
   ],
   "source": [
    "for n in [2]:\n",
    "    print(f'#### Results for {n} playouts. Flat VS Random. ####')\n",
    "    play_game(100, strategy1=flat, strategy2=flat, n_playouts=n, use_score1=True, use_score2=True)"
   ]
  },
  {
   "cell_type": "code",
   "execution_count": null,
   "metadata": {},
   "outputs": [],
   "source": [
    "print(f'Time: {time.time() - start}')"
   ]
  },
  {
   "cell_type": "markdown",
   "metadata": {},
   "source": [
    "## UCB VS Aléatoire"
   ]
  },
  {
   "cell_type": "code",
   "execution_count": 41,
   "metadata": {},
   "outputs": [],
   "source": [
    "start = time.time()\n",
    "\n",
    "n_games=10"
   ]
  },
  {
   "cell_type": "code",
   "execution_count": 41,
   "metadata": {
    "collapsed": true
   },
   "outputs": [
    {
     "name": "stdout",
     "output_type": "stream",
     "text": [
      "#### Results for 30 playouts. UCB VS Random. ####\n"
     ]
    },
    {
     "name": "stderr",
     "output_type": "stream",
     "text": [
      "  5%|██▏                                         | 1/20 [00:10<03:16, 10.33s/it]"
     ]
    },
    {
     "name": "stdout",
     "output_type": "stream",
     "text": [
      "score = -5\n"
     ]
    },
    {
     "name": "stderr",
     "output_type": "stream",
     "text": [
      "\r",
      " 10%|████▍                                       | 2/20 [00:20<03:08, 10.47s/it]"
     ]
    },
    {
     "name": "stdout",
     "output_type": "stream",
     "text": [
      "score = -1\n"
     ]
    },
    {
     "name": "stderr",
     "output_type": "stream",
     "text": [
      "\r",
      " 15%|██████▌                                     | 3/20 [00:30<02:53, 10.23s/it]"
     ]
    },
    {
     "name": "stdout",
     "output_type": "stream",
     "text": [
      "score = -6\n"
     ]
    },
    {
     "name": "stderr",
     "output_type": "stream",
     "text": [
      "\r",
      " 20%|████████▊                                   | 4/20 [00:41<02:43, 10.20s/it]"
     ]
    },
    {
     "name": "stdout",
     "output_type": "stream",
     "text": [
      "score = -1\n"
     ]
    },
    {
     "name": "stderr",
     "output_type": "stream",
     "text": [
      "\r",
      " 25%|███████████                                 | 5/20 [00:51<02:35, 10.35s/it]"
     ]
    },
    {
     "name": "stdout",
     "output_type": "stream",
     "text": [
      "score = -2\n"
     ]
    },
    {
     "name": "stderr",
     "output_type": "stream",
     "text": [
      "\r",
      " 30%|█████████████▏                              | 6/20 [01:01<02:24, 10.33s/it]"
     ]
    },
    {
     "name": "stdout",
     "output_type": "stream",
     "text": [
      "score = -7\n"
     ]
    },
    {
     "name": "stderr",
     "output_type": "stream",
     "text": [
      "\r",
      " 35%|███████████████▍                            | 7/20 [01:12<02:14, 10.36s/it]"
     ]
    },
    {
     "name": "stdout",
     "output_type": "stream",
     "text": [
      "score = -3\n"
     ]
    },
    {
     "name": "stderr",
     "output_type": "stream",
     "text": [
      "\r",
      " 40%|█████████████████▌                          | 8/20 [01:22<02:03, 10.32s/it]"
     ]
    },
    {
     "name": "stdout",
     "output_type": "stream",
     "text": [
      "score = 11\n"
     ]
    },
    {
     "name": "stderr",
     "output_type": "stream",
     "text": [
      "\r",
      " 45%|███████████████████▊                        | 9/20 [01:32<01:52, 10.24s/it]"
     ]
    },
    {
     "name": "stdout",
     "output_type": "stream",
     "text": [
      "score = -7\n"
     ]
    },
    {
     "name": "stderr",
     "output_type": "stream",
     "text": [
      "\r",
      " 50%|█████████████████████▌                     | 10/20 [01:42<01:41, 10.19s/it]"
     ]
    },
    {
     "name": "stdout",
     "output_type": "stream",
     "text": [
      "score = 5\n"
     ]
    },
    {
     "name": "stderr",
     "output_type": "stream",
     "text": [
      "\r",
      " 55%|███████████████████████▋                   | 11/20 [01:52<01:31, 10.16s/it]"
     ]
    },
    {
     "name": "stdout",
     "output_type": "stream",
     "text": [
      "score = 14\n"
     ]
    },
    {
     "name": "stderr",
     "output_type": "stream",
     "text": [
      "\r",
      " 60%|█████████████████████████▊                 | 12/20 [02:02<01:21, 10.14s/it]"
     ]
    },
    {
     "name": "stdout",
     "output_type": "stream",
     "text": [
      "score = -1\n"
     ]
    },
    {
     "name": "stderr",
     "output_type": "stream",
     "text": [
      "\r",
      " 65%|███████████████████████████▉               | 13/20 [02:13<01:11, 10.15s/it]"
     ]
    },
    {
     "name": "stdout",
     "output_type": "stream",
     "text": [
      "score = -1\n"
     ]
    },
    {
     "name": "stderr",
     "output_type": "stream",
     "text": [
      "\r",
      " 70%|██████████████████████████████             | 14/20 [02:23<01:01, 10.22s/it]"
     ]
    },
    {
     "name": "stdout",
     "output_type": "stream",
     "text": [
      "score = 6\n"
     ]
    },
    {
     "name": "stderr",
     "output_type": "stream",
     "text": [
      "\r",
      " 75%|████████████████████████████████▎          | 15/20 [02:33<00:51, 10.31s/it]"
     ]
    },
    {
     "name": "stdout",
     "output_type": "stream",
     "text": [
      "score = -2\n"
     ]
    },
    {
     "name": "stderr",
     "output_type": "stream",
     "text": [
      "\r",
      " 80%|██████████████████████████████████▍        | 16/20 [02:44<00:41, 10.32s/it]"
     ]
    },
    {
     "name": "stdout",
     "output_type": "stream",
     "text": [
      "score = 6\n"
     ]
    },
    {
     "name": "stderr",
     "output_type": "stream",
     "text": [
      "\r",
      " 85%|████████████████████████████████████▌      | 17/20 [02:54<00:30, 10.27s/it]"
     ]
    },
    {
     "name": "stdout",
     "output_type": "stream",
     "text": [
      "score = -2\n"
     ]
    },
    {
     "name": "stderr",
     "output_type": "stream",
     "text": [
      "\r",
      " 90%|██████████████████████████████████████▋    | 18/20 [03:04<00:20, 10.25s/it]"
     ]
    },
    {
     "name": "stdout",
     "output_type": "stream",
     "text": [
      "score = -4\n"
     ]
    },
    {
     "name": "stderr",
     "output_type": "stream",
     "text": [
      "\r",
      " 95%|████████████████████████████████████████▊  | 19/20 [03:14<00:10, 10.25s/it]"
     ]
    },
    {
     "name": "stdout",
     "output_type": "stream",
     "text": [
      "score = -12\n"
     ]
    },
    {
     "name": "stderr",
     "output_type": "stream",
     "text": [
      "100%|███████████████████████████████████████████| 20/20 [03:25<00:00, 10.25s/it]"
     ]
    },
    {
     "name": "stdout",
     "output_type": "stream",
     "text": [
      "score = 12\n",
      "Winrate of player 0 : 0.3\n",
      "Winrate of player 1 : 0.7\n",
      "Number of draw : 0\n",
      "Mean score : 0.0\n"
     ]
    },
    {
     "name": "stderr",
     "output_type": "stream",
     "text": [
      "\n"
     ]
    }
   ],
   "source": [
    "for n in [30]:\n",
    "    print(f'#### Results for {n} playouts. UCB VS Random. ####')\n",
    "    play_game(20, strategy1=UCB, strategy2=UCB, n_playouts=n, use_score1=False, use_score2=False)"
   ]
  },
  {
   "cell_type": "markdown",
   "metadata": {},
   "source": [
    "## UCB_score VS Aléatoire"
   ]
  },
  {
   "cell_type": "code",
   "execution_count": 64,
   "metadata": {
    "collapsed": true
   },
   "outputs": [
    {
     "name": "stdout",
     "output_type": "stream",
     "text": [
      "#### Results for 100 playouts. UCB VS Random. ####\n"
     ]
    },
    {
     "name": "stderr",
     "output_type": "stream",
     "text": [
      "100%|███████████████████████████████████████████| 10/10 [01:49<00:00, 10.97s/it]\n"
     ]
    },
    {
     "name": "stdout",
     "output_type": "stream",
     "text": [
      "Winrate of player 0 : 1.0\n",
      "Winrate of player 1 : 0.0\n",
      "Number of draw : 0\n",
      "Mean score : 54.2\n",
      "#### Results for 200 playouts. UCB VS Random. ####\n"
     ]
    },
    {
     "name": "stderr",
     "output_type": "stream",
     "text": [
      "100%|███████████████████████████████████████████| 10/10 [03:42<00:00, 22.26s/it]"
     ]
    },
    {
     "name": "stdout",
     "output_type": "stream",
     "text": [
      "Winrate of player 0 : 1.0\n",
      "Winrate of player 1 : 0.0\n",
      "Number of draw : 0\n",
      "Mean score : 58.4\n"
     ]
    },
    {
     "name": "stderr",
     "output_type": "stream",
     "text": [
      "\n"
     ]
    }
   ],
   "source": [
    "for n in [100, 200]:\n",
    "    print(f'#### Results for {n} playouts. UCB VS Random. ####')\n",
    "    play_game(n_games, strategy1=UCB, strategy2=rand_strat, n_playouts=n, use_score1=True)"
   ]
  },
  {
   "cell_type": "code",
   "execution_count": null,
   "metadata": {},
   "outputs": [],
   "source": []
  },
  {
   "cell_type": "markdown",
   "metadata": {},
   "source": [
    "## UCB VS UCB_score"
   ]
  },
  {
   "cell_type": "code",
   "execution_count": 69,
   "metadata": {
    "collapsed": true
   },
   "outputs": [
    {
     "name": "stdout",
     "output_type": "stream",
     "text": [
      "#### Results for 100 playouts. UCB VS Random. ####\n"
     ]
    },
    {
     "name": "stderr",
     "output_type": "stream",
     "text": [
      "100%|███████████████████████████████████████████| 10/10 [03:40<00:00, 22.03s/it]\n"
     ]
    },
    {
     "name": "stdout",
     "output_type": "stream",
     "text": [
      "Winrate of player 0 : 1.0\n",
      "Winrate of player 1 : 0.0\n",
      "Number of draw : 0\n",
      "Mean score : 50.9\n",
      "#### Results for 200 playouts. UCB VS Random. ####\n"
     ]
    },
    {
     "name": "stderr",
     "output_type": "stream",
     "text": [
      "100%|███████████████████████████████████████████| 10/10 [07:17<00:00, 43.71s/it]"
     ]
    },
    {
     "name": "stdout",
     "output_type": "stream",
     "text": [
      "Winrate of player 0 : 1.0\n",
      "Winrate of player 1 : 0.0\n",
      "Number of draw : 0\n",
      "Mean score : 51.5\n"
     ]
    },
    {
     "name": "stderr",
     "output_type": "stream",
     "text": [
      "\n"
     ]
    }
   ],
   "source": [
    "for n in [100,200]:\n",
    "    print(f'#### Results for {n} playouts. UCB VS Random. ####')\n",
    "    play_game(n_games, strategy1=UCB, strategy2=UCB, n_playouts=n, use_score1=False,use_score2=True)"
   ]
  },
  {
   "cell_type": "code",
   "execution_count": null,
   "metadata": {},
   "outputs": [],
   "source": [
    "print(f'Time: {time.time() - start}')"
   ]
  },
  {
   "cell_type": "markdown",
   "metadata": {},
   "source": [
    "## UCB VS FLAT"
   ]
  },
  {
   "cell_type": "code",
   "execution_count": 13,
   "metadata": {
    "collapsed": true
   },
   "outputs": [
    {
     "name": "stdout",
     "output_type": "stream",
     "text": [
      "#### Results for 1 playouts for flat and 10 for UCB. UCB VS Flat. ####\n"
     ]
    },
    {
     "name": "stderr",
     "output_type": "stream",
     "text": [
      "100%|███████████████████████████████████████████| 10/10 [00:31<00:00,  3.14s/it]"
     ]
    },
    {
     "name": "stdout",
     "output_type": "stream",
     "text": [
      "Winrate of player 0 : 0.2\n",
      "Winrate of player 1 : 0.8\n",
      "Number of draw : 0\n",
      "Mean score : -21.3\n"
     ]
    },
    {
     "name": "stderr",
     "output_type": "stream",
     "text": [
      "\n"
     ]
    }
   ],
   "source": [
    "for n in [1]:\n",
    "    for n_ucb in [10]:\n",
    "        print(f'#### Results for {n} playouts for flat and {n_ucb} for UCB. UCB VS Flat. ####')\n",
    "        play_game(n_games, strategy1=UCB, strategy2=flat, n_playouts=n, n_ucb=n_ucb)"
   ]
  },
  {
   "cell_type": "code",
   "execution_count": null,
   "metadata": {},
   "outputs": [],
   "source": []
  },
  {
   "cell_type": "code",
   "execution_count": 14,
   "metadata": {},
   "outputs": [
    {
     "name": "stdout",
     "output_type": "stream",
     "text": [
      "Time: 2428.8194603919983\n"
     ]
    }
   ],
   "source": [
    "print(f'Time: {time.time() - start}')"
   ]
  },
  {
   "cell_type": "code",
   "execution_count": 15,
   "metadata": {},
   "outputs": [],
   "source": [
    "tps = time.time() - start"
   ]
  },
  {
   "cell_type": "code",
   "execution_count": 16,
   "metadata": {},
   "outputs": [
    {
     "name": "stdout",
     "output_type": "stream",
     "text": [
      "40.483996256192526\n"
     ]
    }
   ],
   "source": [
    "print(tps/60)"
   ]
  },
  {
   "cell_type": "code",
   "execution_count": null,
   "metadata": {},
   "outputs": [],
   "source": []
  },
  {
   "cell_type": "markdown",
   "metadata": {},
   "source": [
    "## UCT VS Aléatoire"
   ]
  },
  {
   "cell_type": "code",
   "execution_count": 20,
   "metadata": {},
   "outputs": [
    {
     "name": "stdout",
     "output_type": "stream",
     "text": [
      "#### Results for 100 playouts. UCT VS Random. ####\n"
     ]
    },
    {
     "name": "stderr",
     "output_type": "stream",
     "text": [
      "100%|█████████████████████████| 10/10 [03:11<00:00, 19.15s/it]"
     ]
    },
    {
     "name": "stdout",
     "output_type": "stream",
     "text": [
      "Winrate of player 0 : 0.9\n",
      "Winrate of player 1 : 0.1\n",
      "Number of draw : 0\n",
      "Mean score : 16.7\n"
     ]
    },
    {
     "name": "stderr",
     "output_type": "stream",
     "text": [
      "\n"
     ]
    }
   ],
   "source": [
    "for n in [100]:\n",
    "    print(f'#### Results for {n} playouts. UCT VS Random. ####')\n",
    "    play_game(n_games=10, strategy1=BestMoveUCT, strategy2=rand_strat, n_playouts=n)"
   ]
  },
  {
   "cell_type": "code",
   "execution_count": null,
   "metadata": {},
   "outputs": [],
   "source": []
  },
  {
   "cell_type": "markdown",
   "metadata": {},
   "source": []
  },
  {
   "cell_type": "markdown",
   "metadata": {},
   "source": [
    "- sur un graphe :\n",
    "\n",
    "x = nb de playouts\n",
    "y = score moyen sur N parties contre aléatoire\n",
    "\n",
    "courbe 1 = flat\n",
    "courbe 2 = flat score\n",
    "etc "
   ]
  }
 ],
 "metadata": {
  "colab": {
   "collapsed_sections": [],
   "name": "Marrakech MCTS.ipynb",
   "provenance": []
  },
  "kernelspec": {
   "display_name": "Python 3 (ipykernel)",
   "language": "python",
   "name": "python3"
  },
  "language_info": {
   "codemirror_mode": {
    "name": "ipython",
    "version": 3
   },
   "file_extension": ".py",
   "mimetype": "text/x-python",
   "name": "python",
   "nbconvert_exporter": "python",
   "pygments_lexer": "ipython3",
   "version": "3.9.7"
  }
 },
 "nbformat": 4,
 "nbformat_minor": 4
}
