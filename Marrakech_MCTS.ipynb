{
 "cells": [
  {
   "cell_type": "markdown",
   "metadata": {
    "id": "8bn1ZkTWIuCH"
   },
   "source": [
    "# Marrakech MCTS\n",
    "\n",
    "Notebook pour les expériences.\n",
    "\n",
    "Liens :\n",
    "\n",
    "- cours : https://www.lamsade.dauphine.fr/~cazenave/MonteCarlo.pdf\n",
    "\n",
    "- Modélisation : https://github.com/sor8sh/Marrakech/blob/main/main.py\n",
    "- Idee diff de MCTS : https://github.com/IraSkyx/marrakech-ai\n",
    "- https://github.com/bubka42/marrakech\n",
    "- MCTS for stochastic games : https://www.lamsade.dauphine.fr/~cazenave/papers/mctrsg.pdf\n"
   ]
  },
  {
   "cell_type": "markdown",
   "metadata": {
    "colab": {
     "base_uri": "https://localhost:8080/"
    },
    "id": "vgqfqCWEIrZG",
    "outputId": "a5f1ba0c-11eb-4334-810e-9ef6f456b427"
   },
   "source": [
    "!git clone https://github.com/elise-chin/marrakech-mcts.git\n",
    "\n",
    "%cd marrakech-mcts\n",
    "\n",
    "%mkdir src "
   ]
  },
  {
   "cell_type": "markdown",
   "metadata": {},
   "source": [
    "# Implémentation du jeu\n",
    "\n",
    "--> A mettre dans un fichier .py a part puis importer ici ?"
   ]
  },
  {
   "cell_type": "code",
   "execution_count": 23,
   "metadata": {
    "id": "mHWAIJvPppM9"
   },
   "outputs": [],
   "source": [
    "from pickle import NEWOBJ_EX\n",
    "import numpy as np\n",
    "import matplotlib.pyplot as plt\n",
    "from matplotlib import colors\n",
    "from itertools import cycle, count\n",
    "import random \n",
    "import copy\n",
    "from tqdm import tqdm\n",
    "import math\n",
    "import time\n",
    "from collections import defaultdict\n",
    "\n",
    "###########################\n",
    "# --- GLOBAL VARIABLES ---\n",
    "###########################\n",
    "\n",
    "BOARD_SIZE=5\n",
    "N_RUGS=8\n",
    "MIDDLE=2\n",
    "DICE=[1,2,2,3]\n",
    "\n",
    "# Colors of the rugs\n",
    "EMPTY = 0\n",
    "RED = 1 #player 1\n",
    "BLUE = 2 #player 2\n",
    "PINK = 3 #player 1\n",
    "GREEN = 4 #player 2\n",
    "\n",
    "\n",
    "colors = [RED, BLUE, PINK, GREEN]\n",
    "color_cycle = cycle(colors)\n",
    "#next(color_cycle) gives the next color to play\n",
    "\n",
    "# Counters for each color to increment when instanciating new Rug, starts at 1\n",
    "red_counter = count(1)\n",
    "blue_counter = count(1)\n",
    "pink_counter = count(1)\n",
    "green_counter = count(1)\n",
    "\n",
    "# Orientations of the pawn\n",
    "NORTH = (0, 1)\n",
    "SOUTH = (0, -1)\n",
    "EAST = (1, 0)\n",
    "WEST = (-1, 0)\n",
    "\n",
    "orientations_int2str = {NORTH: \"north\", SOUTH: \"south\", EAST: \"east\", WEST: \"west\"}\n",
    "colors_int2str = {RED: \"red\", BLUE: \"blue\", PINK: \"pink\", GREEN: \"green\"}\n",
    "\n",
    "# U turns (demi tour) of the pawn\n",
    "u_turn = {\n",
    "    NORTH: SOUTH,\n",
    "    SOUTH: NORTH,\n",
    "    EAST: WEST,\n",
    "    WEST: EAST,\n",
    "}\n",
    "\n",
    "####################\n",
    "# --- FUNCTIONS ---\n",
    "####################\n",
    "\n",
    "def adjacent_coord(coord):\n",
    "    \"\"\"Returns all squares' coordinates (x', y') adjacent to square of coordinate `coord` (x, y)\n",
    "\n",
    "    Args:\n",
    "        coord (tuple of int): coordinate (x,y) of the square of interest\n",
    "\n",
    "    Returns:\n",
    "        list of tuples: list of adjacent positions\n",
    "    \"\"\"\n",
    "    x, y = coord\n",
    "    answer = []\n",
    "    if -1 < x - 1 < BOARD_SIZE:\n",
    "        answer.append((x - 1, y))\n",
    "    if -1 < x + 1 < BOARD_SIZE:\n",
    "        answer.append((x + 1, y))\n",
    "    if -1 < y - 1 < BOARD_SIZE:\n",
    "        answer.append((x, y - 1))\n",
    "    if -1 < y + 1 < BOARD_SIZE:\n",
    "        answer.append((x, y + 1))\n",
    "    return answer\n",
    "\n",
    "def next_color(color):\n",
    "  next = ''\n",
    "  if color == RED:\n",
    "    next = BLUE\n",
    "  elif color == BLUE:\n",
    "    next = PINK\n",
    "  elif color == PINK:\n",
    "    next = GREEN\n",
    "  elif color == GREEN:\n",
    "    next = RED\n",
    "  \n",
    "  if next == '':\n",
    "    print('The color is incorrect')\n",
    "\n",
    "  return next\n",
    "  \n",
    "'''\n",
    "def adjacent_coord(coord):\n",
    "    \"\"\"Returns all squares' coordinates (x', y') adjacent to square of coordinate `coord` (x, y)\n",
    "\n",
    "    Args:\n",
    "        coord (tuple of int): coordinate (x,y) of the square of interest\n",
    "\n",
    "    Returns:\n",
    "        list of tuples: list of adjacent positions\n",
    "    \"\"\"\n",
    "    x, y = coord\n",
    "    left = (x-1, y)\n",
    "    right = (x+1, y)\n",
    "    up = (x, y+1)\n",
    "    down = (x, y-1)\n",
    "    L = [left, right, up, down]\n",
    "\n",
    "    if x == 0:\n",
    "        L.remove(left)\n",
    "    if y == 0:\n",
    "        L.remove(down)\n",
    "    if x == 6:\n",
    "        L.remove(right)\n",
    "    if y == 6:\n",
    "        L.remove(up)\n",
    "\n",
    "    return L\n",
    "'''\n",
    "\n",
    "##################\n",
    "# --- CLASSES ---\n",
    "##################\n",
    "\n",
    "class Position(object):\n",
    "    def __init__(self, x, y):\n",
    "        self.x = x\n",
    "        self.y = y\n",
    "\n",
    "    def __str__(self):\n",
    "        return f'({self.x},{self.y})'\n",
    "\n",
    "    def get_coord(self):\n",
    "        return self.x, self.y\n",
    "\n",
    "    def is_out_of_board(self, board_limit):\n",
    "        \"\"\"Check if the position of coordinates (x,y) is outside the board.\n",
    "        \n",
    "        Args:\n",
    "            board_limit (int): board limit in terms of indices \n",
    "                               (e.g. if board is of size 7, then board_limit = 6)\n",
    "        \"\"\"\n",
    "\n",
    "        if self.x < 0 or self.x > board_limit or self.y < 0 or self.y > board_limit:\n",
    "            return True\n",
    "        return False\n",
    "\n",
    "\n",
    "class Rug(object):\n",
    "\n",
    "    def __init__(self, color, sq1_pos, sq2_pos, incr=False):\n",
    "        self.color = color\n",
    "        self.sq1_pos = Position(sq1_pos[0], sq1_pos[1]) \n",
    "        self.sq2_pos = Position(sq2_pos[0], sq2_pos[1])\n",
    "        if incr:\n",
    "            self.id = self.increment_id()\n",
    "        else:\n",
    "            self.id = 0\n",
    "\n",
    "    def __str__(self):\n",
    "        return f\"Rug {colors_int2str[self.color]} of id {self.id} at position ({self.sq1_pos}, {self.sq2_pos}).\"\n",
    "\n",
    "    def increment_id(self):\n",
    "        if self.color == RED:\n",
    "            return next(red_counter)\n",
    "        if self.color == BLUE:\n",
    "            return next(blue_counter)\n",
    "        if self.color == PINK:\n",
    "            return next(pink_counter)\n",
    "        if self.color == GREEN:\n",
    "            return next(green_counter)\n",
    "\n",
    "    def create_real(self, incr=True):\n",
    "        rug_copy = Rug(self.color, self.sq1_pos.get_coord(), self.sq2_pos.get_coord(), incr)\n",
    "        return rug_copy\n",
    "\n",
    "class Pawn(object):\n",
    "    def __init__(self):\n",
    "        # The pawn start at the center of the board\n",
    "        self.position = Position(MIDDLE, MIDDLE)\n",
    "        self.orientation = NORTH\n",
    "\n",
    "    def __str__(self):\n",
    "        result = f'({self.position}, {orientations_int2str[self.orientation]})'\n",
    "        return result\n",
    "    \n",
    "    def set_position(self, x, y):\n",
    "        self.position.x = x\n",
    "        self.position.y = y\n",
    "\n",
    "    def set_orientation(self, orientation):\n",
    "        self.orientation = orientation\n",
    "\n",
    "    def legal_orientations(self):\n",
    "        # The pawn cannot make a u turn\n",
    "        orientations = [NORTH, SOUTH, EAST, WEST]\n",
    "        orientations.remove(u_turn[self.orientation])\n",
    "        return orientations\n",
    "\n",
    "    def legal_move(self, new_orientation, dice):\n",
    "\n",
    "        #   Case 1: pawn does not go out from the board\n",
    "        legal_x = self.position.x + new_orientation[0] * dice\n",
    "        legal_y = self.position.y + new_orientation[1] * dice\n",
    "        legal_position = Position(legal_x, legal_y)\n",
    "\n",
    "        #   Case 2: pawn goes out from the board (implementation brute-force)\n",
    "        if legal_position.is_out_of_board(board_limit=(BOARD_SIZE-1)): \n",
    "            # Count the number of steps left after moving out of the board\n",
    "            # Place the pawn at the limit of the board\n",
    "            if new_orientation == NORTH:\n",
    "                steps_left = legal_y - (BOARD_SIZE-1)\n",
    "                legal_y = (BOARD_SIZE-1)\n",
    "            elif new_orientation == EAST:\n",
    "                steps_left = legal_x - (BOARD_SIZE-1)\n",
    "                legal_x = (BOARD_SIZE-1)\n",
    "            elif new_orientation == SOUTH:\n",
    "                steps_left = -legal_y\n",
    "                legal_y = 0\n",
    "            elif new_orientation == WEST:\n",
    "                steps_left = -legal_x\n",
    "                legal_x = 0\n",
    "\n",
    "            # Place the pawn after it has moved out from the board \n",
    "            # It counts as a step\n",
    "            new_orientation, legal_x, legal_y = self.get_move_in_board(new_orientation, legal_x, legal_y)\n",
    "            steps_left = steps_left - 1\n",
    "            \n",
    "            # Move the pawn according to the number of steps left\n",
    "            legal_x = legal_x + new_orientation[0] * steps_left\n",
    "            legal_y = legal_y + new_orientation[1] * steps_left\n",
    "        \n",
    "        return new_orientation, legal_x, legal_y\n",
    "\n",
    "    def get_move_in_board(self, orientation, x, y):\n",
    "        \"\"\"Get the new orientation and coordinates (new_x, new_y) of the pawn after moving out of the board.\"\"\"\n",
    "        # Bottom left corner (0,0)\n",
    "        #to read again by mathilde\n",
    "        if (x, y) == (0,0) and orientation == SOUTH:\n",
    "            orientation = EAST\n",
    "        elif (x, y) == (0,0) and orientation == WEST:\n",
    "            orientation = NORTH\n",
    "        # Top right corner (6,6)\n",
    "        elif (x, y) == ((BOARD_SIZE-1),(BOARD_SIZE-1)) and orientation == EAST:\n",
    "            orientation = SOUTH\n",
    "        elif (x, y) == ((BOARD_SIZE-1),(BOARD_SIZE-1)) and orientation == NORTH:\n",
    "            orientation = WEST\n",
    "        # Bottom side (y = 0)\n",
    "        elif orientation == SOUTH:\n",
    "            x = x + 1 if x % 2 == 1 else x - 1\n",
    "            orientation = NORTH\n",
    "        # Right side (x = 6)\n",
    "        elif orientation == EAST:\n",
    "            y = y + 1 if y % 2 == 0 else y - 1\n",
    "            orientation = WEST\n",
    "        # Top side (y = 6)\n",
    "        elif orientation == NORTH:\n",
    "            x = x + 1 if x % 2 == 0 else x - 1\n",
    "            orientation = SOUTH\n",
    "        # Left side (x = 0)\n",
    "        elif orientation == WEST:\n",
    "            y = y + 1 if y % 2 == 1 else y - 1\n",
    "            orientation = EAST\n",
    "        return orientation, x, y\n",
    "\n",
    "    def move(self, new_orientation, new_x, new_y):\n",
    "        self.set_orientation(new_orientation)\n",
    "        self.set_position(new_x, new_y)\n",
    "\n",
    "    def get_nb_same_color_squares(self, board):\n",
    "        \"\"\"Compute the number of adjacents squares of the same color\n",
    "        as the square's color on which the pawn is\"\"\"\n",
    "        counter = 1 # Init to 1 because the initial square counts\n",
    "        pawn_x, pawn_y = self.position.get_coord()\n",
    "        pawn_color = board.get_color(pawn_x, pawn_y)\n",
    "\n",
    "        coords_to_check = adjacent_coord((pawn_x, pawn_y))\n",
    "        visited_coords = set((pawn_x, pawn_y))\n",
    "        while coords_to_check:\n",
    "            x, y = coords_to_check.pop(0)\n",
    "            visited_coords.add((x, y))\n",
    "            color = board.get_color(x, y)\n",
    "            if color == pawn_color:\n",
    "                counter += 1\n",
    "                adj_coords = adjacent_coord((x,y))\n",
    "                # Only append to coords_to_check not visited coords yet and of same color as the pawn\n",
    "                for coord in adj_coords:\n",
    "                    if coord not in visited_coords:\n",
    "                        coords_to_check.append(coord)\n",
    "        return counter\n",
    "\n",
    "  \n",
    "class Player(object):\n",
    "    def __init__(self, id, colors):\n",
    "        self.id = id\n",
    "        self.colors = colors\n",
    "        self.rugs_left = 2*N_RUGS\n",
    "        self.coins = 30\n",
    "    \n",
    "    def pay(self, amount, opponent_player):\n",
    "        #I think that we should just focus on the 2 players game\n",
    "        #If the player doesn't have enough money\n",
    "        if self.coins - amount < 0:\n",
    "            opponent_player.coins += self.coins\n",
    "            self.coins = 0\n",
    "        #If the player can pay\n",
    "        else:\n",
    "            self.coins -= amount\n",
    "            opponent_player.coins += amount\n",
    "\n",
    "    def score(self, board):\n",
    "        # Sum of coins and the number of squares of the player's colors\n",
    "        s = self.coins\n",
    "        for x in range(board.size):\n",
    "            for y in range(board.size):\n",
    "                if board.board[x,y][0] in self.colors:\n",
    "                    s += 1\n",
    "        return s\n",
    "  \n",
    "class Move(object):\n",
    "    def __init__(self, pawn, new_orientation, new_x, new_y, rug, dice):\n",
    "        self.pawn = pawn\n",
    "        self.new_orientation = new_orientation\n",
    "        self.new_x = new_x\n",
    "        self.new_y = new_y\n",
    "        self.rug = rug\n",
    "        self.dice = dice\n",
    "        \n",
    "    def __str__(self):\n",
    "        \n",
    "        if self.pawn.orientation == self.new_orientation:\n",
    "            assam = f'The pawn stays in his orientation ({orientations_int2str[self.pawn.orientation]}).\\n'\n",
    "        else:\n",
    "            assam = f'The pawn is reoriented from {orientations_int2str[self.pawn.orientation]} to {orientations_int2str[self.new_orientation]}.\\n'\n",
    "        assam_move = f'Assam is moving from {self.pawn.position.__str__()} to ({self.new_x},{self.new_y}).\\n'\n",
    "        tapis = f\"A rug of color {colors_int2str[self.rug.color]} (id={self.rug.id}) is placed at ({self.rug.sq1_pos}, {self.rug.sq2_pos}).\"\n",
    "        result = assam + assam_move + tapis\n",
    "        return result\n",
    "        \n",
    "        #result = f'({orientations_int2str[self.new_orientation]}, ({self.new_x, self.new_y}), {self.rug})'\n",
    "        #return result \n",
    "\n",
    "    def is_pawn_new_orientation_valid(self):\n",
    "        # It is valid if no u-turn\n",
    "        return self.new_orientation in self.pawn.legal_orientations()\n",
    "\n",
    "    def is_pawn_new_position_valid(self):\n",
    "        \n",
    "        return True\n",
    "\n",
    "    def is_rug_adjacent_to_pawn(self):\n",
    "        # Check if adjacent to pawn and also not on the pawn's position\n",
    "\n",
    "        # List of all valid coordinates around the pawn\n",
    "        x, y = self.new_x, self.new_y\n",
    "        init_valid_coord = adjacent_coord((x, y))\n",
    "        valid_coord = init_valid_coord.copy()\n",
    "        for coord in init_valid_coord:\n",
    "            valid_coord.extend(adjacent_coord(coord))\n",
    "        set_valid_coord = set(valid_coord)\n",
    "        set_valid_coord.remove((x, y))\n",
    "\n",
    "        # Check if the rug's both squares are in the set\n",
    "        if self.rug.sq1_pos.get_coord() and self.rug.sq2_pos.get_coord() in set_valid_coord:\n",
    "            return True\n",
    "        return False\n",
    "\n",
    "    def is_rug_covering_another_rug(self, board):\n",
    "        # Rug's new placement is valid if it doesn't cover another rug\n",
    "        # We need to check if the both squares are covered by the same rug (same color and same id)\n",
    "        sq1_color_and_id = board.board[self.rug.sq1_pos.x, self.rug.sq1_pos.y]\n",
    "        sq2_color_and_id = board.board[self.rug.sq2_pos.x, self.rug.sq2_pos.y]\n",
    "        if not np.array_equal(sq1_color_and_id, np.zeros(2)) and np.array_equal(sq1_color_and_id, sq2_color_and_id):\n",
    "            return True\n",
    "        return False\n",
    "\n",
    "    def valid(self, board):\n",
    "        #print(self.is_pawn_new_orientation_valid(), self.is_pawn_new_position_valid(), self.is_rug_adjacent_to_pawn(), self.is_rug_covering_another_rug(board)) \n",
    "        if not self.is_pawn_new_orientation_valid():\n",
    "            return False\n",
    "        elif not self.is_pawn_new_position_valid():\n",
    "            return False\n",
    "        elif not self.is_rug_adjacent_to_pawn():\n",
    "            return False\n",
    "        elif self.is_rug_covering_another_rug(board):\n",
    "            return False\n",
    "        return True\n",
    "\n",
    "class Board(object):\n",
    "    def __init__(self, size=BOARD_SIZE, verbose=False):\n",
    "        self.h = 0 # Hash value\n",
    "        self.size = size\n",
    "        self.board = np.zeros((size, size, 2)) # Cell(x,y) = (rug_color, rug_id)\n",
    "        self.pawn = Pawn() # Initialize at (3,3)\n",
    "        self.players = [Player(0, [RED, PINK]), Player(1, [BLUE, GREEN])]\n",
    "        self.current_player = self.players[0]\n",
    "        self.current_color = RED # Start with first color of first player\n",
    "        self.verbose = verbose\n",
    "        self.nb_turns = 1\n",
    "        self.cycle_players = cycle(self.players)\n",
    "\n",
    "        self.hashTable = defaultdict()\n",
    "        for pawn in ['assam', 'no_assam']:\n",
    "            self.hashTable[pawn] = defaultdict()\n",
    "            for orientation in [NORTH, SOUTH, EAST, WEST]:\n",
    "                self.hashTable[pawn][orientation] = defaultdict()\n",
    "                for dice_result in [1, 2, 3]:\n",
    "                    self.hashTable[pawn][orientation][dice_result] = defaultdict()\n",
    "                    for x in range(5):\n",
    "                        self.hashTable[pawn][orientation][dice_result][x] = defaultdict()\n",
    "                        for y in range(5):\n",
    "                            self.hashTable[pawn][orientation][dice_result][x][y] = defaultdict()\n",
    "                            for rug_color in [RED, BLUE, PINK, GREEN, EMPTY]:\n",
    "                                self.hashTable[pawn][orientation][dice_result][x][y][rug_color] = random.randint(0, 2**64)\n",
    "        \n",
    "        self.hashTurn = random.randint(0, 2**64) # hash value for changing player\n",
    "        self.hashColor = random.randint(0, 2**64) # hash value for changing rug color\n",
    "        self.transpositionTable = {}\n",
    "        # (h, (total_num_playouts,\n",
    "        #      list num playouts for each move,\n",
    "        #      list num wins for each move))\n",
    "        \n",
    "        \n",
    "    def __str__(self):\n",
    "        #print(self.board)\n",
    "        pass\n",
    "\n",
    "    def throw_dice(self):\n",
    "        dice = DICE\n",
    "        return random.choice(dice)\n",
    "\n",
    "    def get_color(self, x, y):\n",
    "        \"\"\"Get the color of the square (x,y)\"\"\"\n",
    "        return self.board[x,y][0]\n",
    "\n",
    "    def get_number(self, x, y):\n",
    "        \"\"\"Get the number of the square (x,y)\"\"\"\n",
    "        return self.board[x,y][1]\n",
    "\n",
    "    def legal_moves(self, dice):\n",
    "        \"\"\"Get list of legal moves among 4x49x12 possible moves.\n",
    "\n",
    "        - Orientation (4, including 3 valid)\n",
    "        - Pawn movement (49, including 1 valid according to the orientation and dice's result)\n",
    "        - Rug placement (12, including ? according to the pawn and other rugs' position)\n",
    "\n",
    "        \"\"\"\n",
    "        moves = [] # List of all possible valid moves\n",
    "\n",
    "        # For every orientation\n",
    "        for orientation in [NORTH, SOUTH, EAST, WEST]:\n",
    "            #we check where the pawn should end\n",
    "            _, x, y = self.pawn.legal_move(orientation, dice)\n",
    "            # For every square around the pawn\n",
    "            for sq1_coord in adjacent_coord((x, y)):\n",
    "                # For every square around those squares\n",
    "                for sq2_coord in adjacent_coord(sq1_coord):\n",
    "                    rug_notreal = Rug(self.current_color, sq1_coord, sq2_coord)\n",
    "                    m = Move(self.pawn, orientation, x, y, rug_notreal, dice)\n",
    "                    # Check if the move is legal\n",
    "                    \n",
    "                    if m.valid(self):\n",
    "                        # If yes, add to moves\n",
    "                        \n",
    "                        moves.append(m)\n",
    "        return moves\n",
    "\n",
    "    def score(self):\n",
    "        # We can think the score as player1's score - player2's score\n",
    "        # Such that if it's positive, player 1 wins, if negative player 2 wins \n",
    "        player1_score = self.players[0].score(self)\n",
    "        player2_score = self.players[1].score(self)\n",
    "        return player1_score - player2_score\n",
    "\n",
    "    def terminal(self):\n",
    "        total = 0\n",
    "        for player in self.players:\n",
    "            total += player.rugs_left\n",
    "        if total == 0:\n",
    "            return True\n",
    "        return False\n",
    "\n",
    "    def play(self, move):\n",
    "        \n",
    "        move.rug = move.rug.create_real()\n",
    "        if self.verbose:\n",
    "          print(move.__str__())\n",
    "        \n",
    "        # 1. Orientate and move the pawn\n",
    "        self.pawn.move(move.new_orientation, move.new_x, move.new_y)\n",
    "        \n",
    "        self.h = self.h ^ self.hashTable['no_assam'][self.pawn.orientation][move.dice][self.pawn.position.x][self.pawn.position.y][self.board.get_color(self.pawn.position.x, self.pawn.position.y)]\n",
    "        self.h = self.h ^ self.hashTable['assam'][move.new_orientation][move.dice][move.new_x][move.new_y][self.board.get_color(move.new_x, move.new_y)]\n",
    "\n",
    "        # 2. Place a rug\n",
    "        self.board[move.rug.sq1_pos.x, move.rug.sq1_pos.y] = np.array([move.rug.color, move.rug.id])\n",
    "        self.board[move.rug.sq2_pos.x, move.rug.sq2_pos.y] = np.array([move.rug.color, move.rug.id])\n",
    "        self.current_player.rugs_left -= 1\n",
    "        \n",
    "        self.h = self.h ^ self.hashTable['no_assam'][move.new_orientation][move.dice][move.rug.sq1_pos.x][move.rug.sq1_pos.y][move.rug_color]\n",
    "        self.h = self.h ^ self.hashTable['no_assam'][move.new_orientation][move.dice][move.rug.sq2_pos.x][move.rug.sq2_pos.y][move.rug_color]\n",
    "        \n",
    "        # 3. Pay opponent\n",
    "        # Pay only if the pawn is on an opponent color\n",
    "        current_square_color = self.get_color(self.pawn.position.x, self.pawn.position.y)\n",
    "        opponent_player_id = abs(self.current_player.id - 1)\n",
    "        if self.verbose:\n",
    "            if current_square_color:\n",
    "                print(f'The players ends on a {colors_int2str[current_square_color]} rug.')\n",
    "            else:\n",
    "                print(f'The player ends on an empty case.')\n",
    "        #very important : the player only have to pay if he is on an opponent rug ! not if it is an empty case !\n",
    "        if current_square_color:\n",
    "            if current_square_color not in self.current_player.colors:\n",
    "                amount = self.pawn.get_nb_same_color_squares(self)\n",
    "                if self.verbose:\n",
    "                    print(f'This rug belongs to player {self.players[opponent_player_id].id}.')\n",
    "                    print(f'The current player has to give him {amount} coins.')\n",
    "                self.current_player.pay(amount, self.players[opponent_player_id])\n",
    "            else:\n",
    "                if self.verbose:\n",
    "                    print(\"The rug is his so he doesn't have to pay.\")\n",
    "        if self.verbose:\n",
    "            print(f'Player {self.players[0].id} has {self.players[0].coins} coins. Player {self.players[1].id} has {self.players[1].coins}.')\n",
    "          \n",
    "        # Change turn\n",
    "        self.current_player = self.players[opponent_player_id]\n",
    "        #self.current_payer = next(self.cycle_players)\n",
    "        self.current_color = next_color(self.current_color)\n",
    "        \n",
    "        self.h = self.h ^ self.hashTurn \n",
    "        self.h = self.h ^ self.hashColor\n",
    "\n",
    "    def playout(self):\n",
    "        \"\"\"Play a random game from the current state.\n",
    "        Returns the result of the random game.\"\"\"\n",
    "\n",
    "        while(True):\n",
    "            # Throw the dice for the current player\n",
    "            dice_result = self.throw_dice()\n",
    "            #We get all the legal moves for this dice result\n",
    "            moves = self.legal_moves(dice=dice_result)\n",
    "            # If the game is over\n",
    "            if self.terminal():\n",
    "                # Victory for player 1\n",
    "                if self.score() < 0:\n",
    "                    if self.verbose:\n",
    "                        print(\"Player 1 wins !!!\")\n",
    "                    return -1\n",
    "                # Victory for player 0\n",
    "                elif self.score() > 0:\n",
    "                    if self.verbose:\n",
    "                        print(\"Player 0 wins !!!\")\n",
    "                    return 1\n",
    "                # Draw\n",
    "                else:\n",
    "                    if self.verbose:\n",
    "                        print(\"Draw...\")\n",
    "                    return 0\n",
    "            \n",
    "            if self.verbose:\n",
    "              print(f'{self.nb_turns}.')\n",
    "              print(f'Player {self.current_player.id} throws the dice. The result is {dice_result}.')\n",
    "\n",
    "            # The game isn't over: rugs are remaining\n",
    "            # We play another move chosen randomly\n",
    "            n = random.randint(0, len(moves)-1)\n",
    "            self.play(moves[n])\n",
    "            self.nb_turns+=1\n",
    "            if self.verbose:\n",
    "                print('\\n')"
   ]
  },
  {
   "cell_type": "markdown",
   "metadata": {},
   "source": [
    "# Implémentations des algorithmes\n",
    "\n",
    "On peut aussi mettre dans un fichier .py et importer ?"
   ]
  },
  {
   "cell_type": "markdown",
   "metadata": {},
   "source": [
    "### Table de transposition\n",
    "\n",
    "Une table de transposition est une hash table indexé par une position dans le plateau et est utilisé pour éviter d'analyser la même position plusieurs fois. \n",
    "\n",
    "(On peut associer chaque état (une configuration du jeu) à un hash code. Ici on va utiliser le hachage de Zobrist. \n",
    "Chaque case de chaque pièce est associée à un nombre aléatoire différent. Le code d'un état est le XOR des nombres aléatoires des pièces présentes sur le plateau de jeu.)\n",
    "          \n",
    "--> A ete ajoute dans classe Board"
   ]
  },
  {
   "cell_type": "markdown",
   "metadata": {},
   "source": [
    "### Aléatoire"
   ]
  },
  {
   "cell_type": "code",
   "execution_count": 2,
   "metadata": {},
   "outputs": [],
   "source": [
    "def rand_strat(board, n_playouts, use_score=False):\n",
    "    dice_result = board.throw_dice()\n",
    "    moves = board.legal_moves(dice_result)\n",
    "    n = random.randint(0, len(moves)-1)\n",
    "    return moves[n]"
   ]
  },
  {
   "cell_type": "markdown",
   "metadata": {},
   "source": [
    "### Flat\n",
    "\n",
    "TO DO :\n",
    "- optimiser \n",
    "- rendre plus propre et pus perso"
   ]
  },
  {
   "cell_type": "code",
   "execution_count": 3,
   "metadata": {
    "id": "LNfV30C2xQEJ"
   },
   "outputs": [],
   "source": [
    "def flat_original(board, n):\n",
    "    \"\"\"\n",
    "    For each move of the current state, \n",
    "    compute the number of playouts that have been won.\n",
    "    \n",
    "    Args:\n",
    "        n (int): Number of playouts.\n",
    "    \"\"\"\n",
    "    dice_result = board.throw_dice()\n",
    "    moves = board.legal_moves(dice_result)\n",
    "    #Just to know which player we are\n",
    "    current_player=board.current_player.id\n",
    "    bestScore = 0\n",
    "    bestMove = 0\n",
    "    for m in (range(len(moves))):\n",
    "        sum = 0\n",
    "        for i in (range(n)):\n",
    "            b = copy.deepcopy(board)\n",
    "            #b.verbose=False\n",
    "            b.play(moves[m])\n",
    "            r = b.playout() # Result of the random game from moves[m]\n",
    "            # player 0 wins : 1, player 1 wins : -1\n",
    "            if current_player == 0:\n",
    "                if r == 1:\n",
    "                    sum+=1\n",
    "            if current_player == 1:\n",
    "                if r == -1:\n",
    "                    sum+=1\n",
    "        if sum > bestScore:\n",
    "            bestScore = sum\n",
    "            bestMove = m\n",
    "    return moves[bestMove]"
   ]
  },
  {
   "cell_type": "code",
   "execution_count": 4,
   "metadata": {},
   "outputs": [],
   "source": [
    "def flat(board, n, use_score=True):\n",
    "    \"\"\"\n",
    "    Get the move with greatest mean after `n` playouts.\n",
    "    \n",
    "    Args:\n",
    "        n (int): Number of playouts.\n",
    "        use_score (bool): Use the real score to compute the score if True, otherwise use the number of wins\n",
    "    \"\"\"\n",
    "\n",
    "    dice_result = board.throw_dice()\n",
    "    moves = board.legal_moves(dice_result)\n",
    "    sumScores = [0.0 for x in range(len(moves))]\n",
    "    nbVisits = [0 for x in range(len(moves))]\n",
    "    current_player = board.current_player.id\n",
    "\n",
    "    # For each playout\n",
    "    for i in range(n):\n",
    "        m = random.randint(0, len(moves)-1) # Choose a random move\n",
    "        b = copy.deepcopy(board)\n",
    "        b.play(moves[m]) # Play the move\n",
    "        r = b.playout() # Result of the random game from moves[m]\n",
    "\n",
    "        if use_score:\n",
    "            score = b.score() # Score of the random game from moves[m] \n",
    "            sumScores[m] += score \n",
    "        else:\n",
    "            if (current_player == 0 and r == 1) or (current_player == 1 and r == -1):\n",
    "                sumScores[m] += 1\n",
    "        nbVisits[m] += 1 \n",
    "\n",
    "    # Get the move with the greatest mean\n",
    "    bestScore = 0\n",
    "    bestMove = 0\n",
    "    score = 0\n",
    "    for m in range(len(moves)):\n",
    "        if nbVisits[m] > 0:\n",
    "            score = sumScores[m] / nbVisits[m]\n",
    "        if score > bestScore:\n",
    "            bestScore = score\n",
    "            bestMove = m\n",
    "\n",
    "    return moves[bestMove]"
   ]
  },
  {
   "cell_type": "markdown",
   "metadata": {},
   "source": [
    "### UCB\n",
    "\n",
    "    TO DO :\n",
    "    - optimiser \n",
    "    - rendre plus propre et pus perso\n",
    "\n",
    "    - Remplacer dans la formule w_i (number of wins), le vrai score. On calulerait donc un vrai score."
   ]
  },
  {
   "cell_type": "code",
   "execution_count": 4,
   "metadata": {},
   "outputs": [],
   "source": [
    "def UCB(board, n, c=0.4):\n",
    "    dice_result = board.throw_dice()\n",
    "    moves = board.legal_moves(dice_result)\n",
    "    sumScores = [0.0 for x in range(len(moves))]\n",
    "    nbVisits = [0 for x in range(len(moves))]\n",
    "    current_player=board.current_player.id\n",
    "    for i in range(n):\n",
    "        bestScore = 0\n",
    "        bestMove = 0\n",
    "        for m in range(len(moves)):\n",
    "            score = 1000000\n",
    "            if nbVisits[m] > 0:\n",
    "                 score = sumScores[m] / nbVisits[m] + c * math.sqrt(math.log(i) / nbVisits[m])\n",
    "            if score > bestScore:\n",
    "                bestScore = score\n",
    "                bestMove = m\n",
    "        b = copy.deepcopy(board)\n",
    "        b.play(moves[bestMove])\n",
    "        r = b.playout()\n",
    "        if current_player == 0:\n",
    "            #if I am player 0, I need a 1 to win\n",
    "            if r == 1:\n",
    "                sumScores[bestMove] += 1\n",
    "        if current_player == 1:\n",
    "            #if I am player 1 I need a -1 to win\n",
    "            if r == -1:\n",
    "                sumScores[bestMove] += 1\n",
    "\n",
    "        nbVisits[bestMove] += 1\n",
    "        \n",
    "    bestScore = 0\n",
    "    bestMove = 0\n",
    "\n",
    "    # Get the most visited move\n",
    "    for m in range(len(moves)):\n",
    "        score = nbVisits[m]\n",
    "        if score > bestScore:\n",
    "            bestScore = score\n",
    "            bestMove = m\n",
    "    return moves[bestMove]"
   ]
  },
  {
   "cell_type": "markdown",
   "metadata": {},
   "source": [
    "### UCT"
   ]
  },
  {
   "cell_type": "code",
   "execution_count": null,
   "metadata": {},
   "outputs": [],
   "source": [
    "def UCT(board):\n",
    "    if board.terminal():\n",
    "        return board.score()\n",
    "    t = look(board) # [Total nb playouts, list of playouts for each move, list of nwins for each move]\n",
    "    if t != None:\n",
    "        bestValue = -1000000.0\n",
    "        best = 0\n",
    "        moves = board.legalMoves()\n",
    "        for i in range(0, len(moves)):\n",
    "            val = 1000000.0\n",
    "            if t[1][i] > 0: # nwins\n",
    "                Q = t[2][i] / t[1][i] # winrate\n",
    "                if board.turn == BLACK:\n",
    "                    Q = 1 - Q\n",
    "                val = Q + 0.4 * math.sqrt(math.log(t[0]) / t[1][i])\n",
    "            if val > bestValue:\n",
    "                bestValue = val\n",
    "                best = i\n",
    "        board.play(moves[best])\n",
    "        res = UCT(board)\n",
    "        t[0] += 1\n",
    "        t[1][best] += 1\n",
    "        t[2][best] += res\n",
    "        return res\n",
    "    else:\n",
    "        add(board)\n",
    "        return board.playout()\n",
    "\n",
    "def BestMoveUCT (board, n):\n",
    "    global Table\n",
    "    Table = {}\n",
    "    for i in range (n):\n",
    "        b1 = copy.deepcopy(board)\n",
    "        res = UCT(b1)\n",
    "    t = look(board)\n",
    "    moves = board.legalMoves()\n",
    "    best = moves[0]\n",
    "    bestValue = t[1][0]\n",
    "    for i in range(1, len(moves)):\n",
    "        if (t[1][i] > bestValue):\n",
    "            bestValue = t[1][i]\n",
    "            best = moves[i]\n",
    "    return best"
   ]
  },
  {
   "cell_type": "markdown",
   "metadata": {},
   "source": [
    "### AMAF"
   ]
  },
  {
   "cell_type": "code",
   "execution_count": null,
   "metadata": {},
   "outputs": [],
   "source": [
    "def playoutAMAF (board, played):\n",
    "    while (True):\n",
    "        moves = board.legalMoves ()\n",
    "        if len (moves) == 0 or board.terminal ():\n",
    "            return board.score ()\n",
    "        n = random.randint (0, len (moves) - 1)\n",
    "        played.append (moves [n].code (board))\n",
    "        board.play (moves [n])\n",
    "\n",
    "def code (self, board):\n",
    "        direction = 0\n",
    "        if self.y2 > self.y1:\n",
    "            if board.board [self.x2] [self.y2] == EMPTY:\n",
    "                direction = 1\n",
    "            else:\n",
    "                direction = 2\n",
    "        if self.y2 < self.y1:\n",
    "             if board.board [self.x2] [self.y2] == EMPTY:\n",
    "                direction = 3\n",
    "             else:\n",
    "                 direction = 4\n",
    "        if self.color == WHITE:\n",
    "            return 5 * (Dy * self.x1 + self.y1) + direction\n",
    "        else:\n",
    "            return 5 * Dx * Dy + 5 * (Dy * self.x1 + self.y1) + direction\n",
    "\n",
    "MaxCodeLegalMoves = 2 * Dx * Dy * 5\n",
    "\n",
    " \n",
    "\n",
    "def addAMAF (board):\n",
    "    nplayouts = [0.0 for x in range (MaxLegalMoves)]\n",
    "    nwins = [0.0 for x in range (MaxLegalMoves)]\n",
    "    nplayoutsAMAF = [0.0 for x in range (MaxCodeLegalMoves)]\n",
    "    nwinsAMAF = [0.0 for x in range (MaxCodeLegalMoves)]\n",
    "    Table [board.h] = [0, nplayouts, nwins, nplayoutsAMAF, nwinsAMAF]\n",
    "\n",
    "\n",
    "def updateAMAF (t, played, res):\n",
    "    for i in range (len (played)):\n",
    "        code = played [i]\n",
    "        seen = False\n",
    "        for j in range (i):\n",
    "            if played [j] == code:\n",
    "                seen = True\n",
    "        if not seen:\n",
    "            t [3] [code] += 1\n",
    "            t [4] [code] += res"
   ]
  },
  {
   "cell_type": "markdown",
   "metadata": {},
   "source": [
    "### RAVE"
   ]
  },
  {
   "cell_type": "code",
   "execution_count": null,
   "metadata": {},
   "outputs": [],
   "source": [
    "\n",
    "\n",
    "\n",
    "def RAVE (board, played):\n",
    "    if (board.terminal ()):\n",
    "        return board.score ()\n",
    "    t = look (board)\n",
    "    if t != None:\n",
    "        bestValue = -1000000.0\n",
    "        best = 0\n",
    "        moves = board.legalMoves ()\n",
    "        bestcode = moves [0].code (board)\n",
    "        for i in range (0, len (moves)):\n",
    "            val = 1000000.0\n",
    "            code = moves [i].code (board)\n",
    "            if t [3] [code] > 0:\n",
    "                beta = t [3] [code] / (t [1] [i] + t [3] [code] + 1e-5 * t [1] [i] * t [3] [code])\n",
    "                Q = 1\n",
    "                if t [1] [i] > 0:\n",
    "                    Q = t [2] [i] / t [1] [i]\n",
    "                    if board.turn == BLACK:\n",
    "                        Q = 1 - Q\n",
    "\n",
    "                        AMAF = t [4] [code] / t [3] [code]\n",
    "                if board.turn == BLACK:\n",
    "                    AMAF = 1 - AMAF\n",
    "                val = (1.0 - beta) * Q + beta * AMAF\n",
    "            if val > bestValue:\n",
    "                bestValue = val\n",
    "                best = i\n",
    "                bestcode = code\n",
    "        board.play (moves [best])\n",
    "        played.append (bestcode)\n",
    "        res = RAVE (board, played)\n",
    "        t [0] += 1\n",
    "        t [1] [best] += 1\n",
    "        t [2] [best] += res\n",
    "        updateAMAF (t, played, res)\n",
    "        return res\n",
    "    else:\n",
    "        addAMAF (board)\n",
    "        return playoutAMAF (board, played)\n",
    "\n",
    "\n",
    "def BestMoveRAVE (board, n):\n",
    "    global Table\n",
    "    Table = {}\n",
    "    for i in range (n):\n",
    "        b1 = copy.deepcopy (board)\n",
    "        res = RAVE (b1, [])\n",
    "    t = look (board)\n",
    "    moves = board.legalMoves ()\n",
    "    best = moves [0]\n",
    "    bestValue = t [1] [0]\n",
    "    for i in range (1, len(moves)):\n",
    "        if (t [1] [i] > bestValue):\n",
    "            bestValue = t [1] [i]\n",
    "            best = moves [i]\n",
    "    return best"
   ]
  },
  {
   "cell_type": "markdown",
   "metadata": {},
   "source": [
    "### GRAVE"
   ]
  },
  {
   "cell_type": "code",
   "execution_count": null,
   "metadata": {},
   "outputs": [],
   "source": [
    "def GRAVE (board, played, tref):\n",
    "    if (board.terminal ()):\n",
    "        return board.score ()\n",
    "    t = look (board)\n",
    "    if t != None:\n",
    "        tr = tref\n",
    "        if t [0] > 50:\n",
    "            tr = t\n",
    "        bestValue = -1000000.0\n",
    "        best = 0\n",
    "        moves = board.legalMoves ()\n",
    "        bestcode = moves [0].code (board)\n",
    "        for i in range (0, len (moves)):\n",
    "            val = 1000000.0\n",
    "            code = moves [i].code ()\n",
    "            if tr [3] [code] > 0:\n",
    "                beta = tr [3] [code] / (t [1] [i] + tr [3] [code] + 1e-5 * t [1] [i] * tr [3] [code])\n",
    "                Q = 1\n",
    "                if t [1] [i] > 0:\n",
    "                    Q = t [2] [i] / t [1] [i]\n",
    "                    if board.turn == BLACK:\n",
    "                        Q = 1 - Q\n",
    "                AMAF = tr [4] [code] / tr [3] [code]\n",
    "                if board.turn == BLACK:\n",
    "                    AMAF = 1 - AMAF\n",
    "                val = (1.0 - beta) * Q + beta * AMAF\n",
    "            if val > bestValue:\n",
    "                bestValue = val\n",
    "                best = i\n",
    "                bestcode = code\n",
    "        board.play (moves [best])\n",
    "        played.append (bestcode)\n",
    "        res = GRAVE (board, played, tr)\n",
    "        t [0] += 1\n",
    "        t [1] [best] += 1\n",
    "        t [2] [best] += res\n",
    "        updateAMAF (t, played, res)\n",
    "        return res\n",
    "    else:\n",
    "        addAMAF (board)\n",
    "        return playoutAMAF (board, played)"
   ]
  },
  {
   "cell_type": "markdown",
   "metadata": {},
   "source": [
    "### SEQUENTIAL HALVING ?"
   ]
  },
  {
   "cell_type": "code",
   "execution_count": null,
   "metadata": {},
   "outputs": [],
   "source": [
    "def SequentialHalving (state, budget):\n",
    "    Table = {}\n",
    "    add (state)\n",
    "    moves = legalMoves(state)\n",
    "    total = len(moves)\n",
    "    nplayouts = [0.0 for x in range (MaxCodeLegalMoves)]\n",
    "    nwins = [0.0 for x in range (MaxCodeLegalMoves)]\n",
    "    while (len (moves) > 1):\n",
    "        for m in moves:\n",
    "            for i in range (budget // (len (moves) * np.log2 (total))):\n",
    "                s = copy.deepcopy (state)\n",
    "                play (s, m)\n",
    "                res = UCT (s)\n",
    "                nplayouts [m.code (state)] += 1\n",
    "                if state.turn == WHITE:\n",
    "                    nwins [m.code (state)] += res\n",
    "                else:\n",
    "                    nwins [m.code (state)] += 1.0 - res\n",
    "        moves = bestHalf (state, moves, nwins, nplayouts)\n",
    "    return moves [0]\n",
    "\n",
    "\n",
    "def bestHalf (state, moves, nwins, nplayouts):\n",
    "   half = []\n",
    "   notused = [True for x in range (MaxCodeLegalMoves)]\n",
    "   for i in range (np.ceil(len (moves) / 2)):\n",
    "       best = -1.0\n",
    "       bestMove = moves [0]\n",
    "       for m in moves:\n",
    "            code = m.code (state)\n",
    "            if notused [code]:\n",
    "                mu = nwins [code] / nplayouts [code]\n",
    "                if mu > best:\n",
    "                    best = mu\n",
    "                    bestMove = m\n",
    "        notused [bestMove.code (state)] = False\n",
    "        half.append (bestMove)\n",
    "    return half"
   ]
  },
  {
   "cell_type": "markdown",
   "metadata": {},
   "source": [
    "### SHUSS ?"
   ]
  },
  {
   "cell_type": "code",
   "execution_count": null,
   "metadata": {},
   "outputs": [],
   "source": [
    "def SHUSS (state, budget):\n",
    "    Table = {}\n",
    "    addAMAF (state)\n",
    "    t = look (state)\n",
    "    moves = legalMoves (state)\n",
    "    total = len (moves)\n",
    "    nplayouts = [0.0 for x in range (MaxCodeLegalMoves)]\n",
    "    nwins = [0.0 for x in range (MaxCodeLegalMoves)]\n",
    "    while (len (moves) > 1):\n",
    "        for m in moves:\n",
    "            for i in range (budget // (len (moves) * np.log2 (total))):\n",
    "                s = copy.deepcopy (state)\n",
    "                play (s, m)\n",
    "                code = m.code (state)\n",
    "                played =  [code]\n",
    "                res = GRAVE (s, played, t)\n",
    "                updateAMAF (t, played, res)\n",
    "                nplayouts [code] += 1\n",
    "                if state.turn == WHITE:\n",
    "                    nwins [code] += res\n",
    "                else:\n",
    "                    nwins [code] += 1.0 - res\n",
    "        moves = bestHalfSHUSS (t, state, moves, nwins, nplayouts)\n",
    "    return moves [0]\n",
    "\n",
    "\n",
    "def bestHalfSHUSS (t, state, moves, nwins, nplayouts):\n",
    "    half = []\n",
    "    notused = [True for x in range (MaxCodeLegalMoves)]\n",
    "    c = 128\n",
    "    for i in range (np.ceil(len (moves) / 2)):\n",
    "        best = -1.0\n",
    "        bestMove = moves [0]\n",
    "        for m in moves:\n",
    "            code = m.code (state)\n",
    "            if notused [code]:\n",
    "                AMAF = t [4] [code] / t [3] [code]\n",
    "                if state.turn == BLACK:\n",
    "                    AMAF = 1 - AMAF\n",
    "                mu = nwins [code] / nplayouts [code] + c * AMAF / nplayouts [code]\n",
    "                if mu > best:\n",
    "                    best = mu\n",
    "                    bestMove = m\n",
    "        notused [bestMove.code (state)] = False\n",
    "        half.append (bestMove)\n",
    "    return half"
   ]
  },
  {
   "cell_type": "markdown",
   "metadata": {},
   "source": [
    "### PUCT ?"
   ]
  },
  {
   "cell_type": "code",
   "execution_count": null,
   "metadata": {},
   "outputs": [],
   "source": [
    "def PUCT (board):\n",
    "    if board.terminal ():\n",
    "        return board.score ()\n",
    "    t = look (board)\n",
    "    if t != None:\n",
    "        bestValue = -1000000.0\n",
    "        best = 0\n",
    "        moves = board.legalMoves ()\n",
    "        for i in range (0, len (moves)):\n",
    "            # t [4] = value from the neural network\n",
    "            Q = t [4]\n",
    "            if t [1] [i] > 0:\n",
    "                Q = t [2] [i] / t [1] [i]\n",
    "            if board.turn == BLACK:\n",
    "                Q = 1 - Q\n",
    "            # t [3] = policy from the neural network\n",
    "            val = Q + 0.4 * t [3] [i] * sqrt (t [0]) / (1 + t [1] [i])\n",
    "            if val > bestValue:\n",
    "                bestValue = val\n",
    "                best = i\n",
    "\n",
    " board.play (moves [best])\n",
    "        res = PUCT (board)\n",
    "        t [0] += 1\n",
    "        t [1] [best] += 1\n",
    "        t [2] [best] += res\n",
    "        return res\n",
    "    else:\n",
    "        t = add (board)\n",
    "        return t [4]"
   ]
  },
  {
   "cell_type": "markdown",
   "metadata": {},
   "source": [
    "# Expériences"
   ]
  },
  {
   "cell_type": "markdown",
   "metadata": {},
   "source": [
    "## Fonction pour lancer une partie"
   ]
  },
  {
   "cell_type": "code",
   "execution_count": 5,
   "metadata": {},
   "outputs": [],
   "source": [
    "def play_game(n_games, strategy1, strategy2, n_playouts=None, n_ucb=None, use_score1=False, use_score2=False):\n",
    "    \"\"\"Returns win rate for player 0\"\"\"\n",
    "    n_wins1 = 0\n",
    "    n_wins2 = 0\n",
    "    draw = 0\n",
    "    s = 0\n",
    "    for i in tqdm(range(n_games)):\n",
    "        game = Board(verbose=False)\n",
    "        i=1\n",
    "        while(not game.terminal()):\n",
    "            #print(f'Tour {i}')\n",
    "            i+=1\n",
    "            current_player=game.current_player.id\n",
    "            if current_player == 0:\n",
    "                if n_ucb :\n",
    "                    best_move = strategy1(game, n_ucb)\n",
    "                best_move = strategy1(game, n_playouts, use_score1)\n",
    "            if current_player == 1:\n",
    "                best_move = strategy2(game, n_playouts, use_score2)\n",
    "            game.play(best_move)\n",
    "        score = game.score()\n",
    "        #print(f'score = {score}')\n",
    "        if score > 0: #victory for player 0\n",
    "            n_wins1 += 1\n",
    "        elif score < 0:\n",
    "            n_wins2 +=1\n",
    "        elif score == 0:\n",
    "            draw +=1\n",
    "        s += score\n",
    "    print(f'Winrate of player 0 : {n_wins1/n_games}')\n",
    "    print(f'Winrate of player 1 : {n_wins2/n_games}')\n",
    "    print(f'Number of draw : {draw}')\n",
    "    print(f'Mean score : {s/n_games}')\n",
    "    \n",
    "    return n_wins1/n_games, n_wins2/n_games, draw, s/n_games"
   ]
  },
  {
   "cell_type": "code",
   "execution_count": 7,
   "metadata": {},
   "outputs": [],
   "source": [
    "n_games = 10"
   ]
  },
  {
   "cell_type": "code",
   "execution_count": 8,
   "metadata": {},
   "outputs": [],
   "source": [
    "start = time.time()"
   ]
  },
  {
   "cell_type": "markdown",
   "metadata": {},
   "source": [
    "## Aléatoire VS Aléatoire"
   ]
  },
  {
   "cell_type": "code",
   "execution_count": 8,
   "metadata": {
    "scrolled": true
   },
   "outputs": [
    {
     "name": "stderr",
     "output_type": "stream",
     "text": [
      "100%|███████████████████████████████████████| 2000/2000 [00:27<00:00, 72.63it/s]"
     ]
    },
    {
     "name": "stdout",
     "output_type": "stream",
     "text": [
      "Winrate of player 0 : 0.5425\n",
      "Winrate of player 1 : 0.4405\n",
      "Number of draw : 34\n",
      "Mean score : 3.1895\n"
     ]
    },
    {
     "name": "stderr",
     "output_type": "stream",
     "text": [
      "\n"
     ]
    },
    {
     "data": {
      "text/plain": [
       "(0.5425, 0.4405, 34, 3.1895)"
      ]
     },
     "execution_count": 8,
     "metadata": {},
     "output_type": "execute_result"
    }
   ],
   "source": [
    "play_game(n_games=2000, strategy1=rand_strat, strategy2=rand_strat)"
   ]
  },
  {
   "cell_type": "markdown",
   "metadata": {},
   "source": [
    "## Flat VS Aléatoire"
   ]
  },
  {
   "cell_type": "markdown",
   "metadata": {},
   "source": [
    "1 simulation de n parties va prendre \n",
    "\n",
    "n x 16 tours x 20 (~ legal moves/tour) x m playouts\n",
    "\n",
    "Pour n = 100 parties\n",
    "et m = 1000 playouts\n",
    "\n",
    "ça fait 32 000 000 parties\n",
    "\n",
    "et encore je compte pas le joueur aléatoire ...\n",
    "\n",
    "\n",
    "Pour n = 10 parties\n",
    "et m = 100 playouts\n",
    "\n",
    "ça fait 320 000 parties"
   ]
  },
  {
   "cell_type": "markdown",
   "metadata": {},
   "source": [
    "10 000 parties en taille 5x5 ça prend : 2min14\n",
    "\n",
    "en taille 7x7 ça prend : 3min50"
   ]
  },
  {
   "cell_type": "code",
   "execution_count": 23,
   "metadata": {},
   "outputs": [],
   "source": [
    "n_games = 10\n",
    "start = time.time()"
   ]
  },
  {
   "cell_type": "code",
   "execution_count": 24,
   "metadata": {
    "id": "fPcVjMbOP-Ns"
   },
   "outputs": [
    {
     "name": "stdout",
     "output_type": "stream",
     "text": [
      "#### Results for 100 playouts. Flat VS Random. ####\n"
     ]
    },
    {
     "name": "stderr",
     "output_type": "stream",
     "text": [
      "100%|██████████| 10/10 [02:09<00:00, 12.92s/it]\n"
     ]
    },
    {
     "name": "stdout",
     "output_type": "stream",
     "text": [
      "Winrate of player 0 : 0.9\n",
      "Winrate of player 1 : 0.1\n",
      "Number of draw : 0\n",
      "Mean score : 16.9\n",
      "#### Results for 200 playouts. Flat VS Random. ####\n"
     ]
    },
    {
     "name": "stderr",
     "output_type": "stream",
     "text": [
      "100%|██████████| 10/10 [04:21<00:00, 26.14s/it]\n"
     ]
    },
    {
     "name": "stdout",
     "output_type": "stream",
     "text": [
      "Winrate of player 0 : 1.0\n",
      "Winrate of player 1 : 0.0\n",
      "Number of draw : 0\n",
      "Mean score : 34.4\n",
      "#### Results for 500 playouts. Flat VS Random. ####\n"
     ]
    },
    {
     "name": "stderr",
     "output_type": "stream",
     "text": [
      "100%|██████████| 10/10 [10:37<00:00, 63.77s/it]"
     ]
    },
    {
     "name": "stdout",
     "output_type": "stream",
     "text": [
      "Winrate of player 0 : 1.0\n",
      "Winrate of player 1 : 0.0\n",
      "Number of draw : 0\n",
      "Mean score : 28.1\n"
     ]
    },
    {
     "name": "stderr",
     "output_type": "stream",
     "text": [
      "\n"
     ]
    }
   ],
   "source": [
    "#41:10 pour n_games = 100 et n_playouts = 10 pour un plateau 5x5\n",
    "for n in [100, 200, 500]:\n",
    "    print(f'#### Results for {n} playouts. Flat VS Random. ####')\n",
    "    play_game(n_games, strategy1=flat, strategy2=rand_strat, n_playouts=n)"
   ]
  },
  {
   "cell_type": "markdown",
   "metadata": {},
   "source": [
    "## Flat_score VS Aléatoire"
   ]
  },
  {
   "cell_type": "code",
   "execution_count": 25,
   "metadata": {},
   "outputs": [
    {
     "name": "stdout",
     "output_type": "stream",
     "text": [
      "#### Results for 100 playouts. Flat VS Random. ####\n"
     ]
    },
    {
     "name": "stderr",
     "output_type": "stream",
     "text": [
      "100%|██████████| 10/10 [02:09<00:00, 12.92s/it]\n"
     ]
    },
    {
     "name": "stdout",
     "output_type": "stream",
     "text": [
      "Winrate of player 0 : 1.0\n",
      "Winrate of player 1 : 0.0\n",
      "Number of draw : 0\n",
      "Mean score : 45.8\n",
      "#### Results for 200 playouts. Flat VS Random. ####\n"
     ]
    },
    {
     "name": "stderr",
     "output_type": "stream",
     "text": [
      "100%|██████████| 10/10 [04:16<00:00, 25.65s/it]\n"
     ]
    },
    {
     "name": "stdout",
     "output_type": "stream",
     "text": [
      "Winrate of player 0 : 1.0\n",
      "Winrate of player 1 : 0.0\n",
      "Number of draw : 0\n",
      "Mean score : 53.9\n",
      "#### Results for 500 playouts. Flat VS Random. ####\n"
     ]
    },
    {
     "name": "stderr",
     "output_type": "stream",
     "text": [
      "100%|██████████| 10/10 [10:40<00:00, 64.04s/it]"
     ]
    },
    {
     "name": "stdout",
     "output_type": "stream",
     "text": [
      "Winrate of player 0 : 1.0\n",
      "Winrate of player 1 : 0.0\n",
      "Number of draw : 0\n",
      "Mean score : 56.4\n"
     ]
    },
    {
     "name": "stderr",
     "output_type": "stream",
     "text": [
      "\n"
     ]
    }
   ],
   "source": [
    "for n in [100, 200, 500]:\n",
    "    print(f'#### Results for {n} playouts. Flat VS Random. ####')\n",
    "    play_game(n_games, strategy1=flat, strategy2=rand_strat, n_playouts=n, use_score1=True)"
   ]
  },
  {
   "cell_type": "markdown",
   "metadata": {},
   "source": [
    "## Flat VS Flat_score"
   ]
  },
  {
   "cell_type": "code",
   "execution_count": 26,
   "metadata": {},
   "outputs": [
    {
     "name": "stdout",
     "output_type": "stream",
     "text": [
      "#### Results for 100 playouts. Flat VS Random. ####\n"
     ]
    },
    {
     "name": "stderr",
     "output_type": "stream",
     "text": [
      "100%|██████████| 10/10 [04:08<00:00, 24.87s/it]\n"
     ]
    },
    {
     "name": "stdout",
     "output_type": "stream",
     "text": [
      "Winrate of player 0 : 1.0\n",
      "Winrate of player 1 : 0.0\n",
      "Number of draw : 0\n",
      "Mean score : 69.0\n",
      "#### Results for 200 playouts. Flat VS Random. ####\n"
     ]
    },
    {
     "name": "stderr",
     "output_type": "stream",
     "text": [
      "100%|██████████| 10/10 [08:31<00:00, 51.18s/it]\n"
     ]
    },
    {
     "name": "stdout",
     "output_type": "stream",
     "text": [
      "Winrate of player 0 : 1.0\n",
      "Winrate of player 1 : 0.0\n",
      "Number of draw : 0\n",
      "Mean score : 73.6\n",
      "#### Results for 500 playouts. Flat VS Random. ####\n"
     ]
    },
    {
     "name": "stderr",
     "output_type": "stream",
     "text": [
      " 20%|██        | 2/10 [05:44<22:58, 172.30s/it]\n"
     ]
    },
    {
     "ename": "KeyboardInterrupt",
     "evalue": "",
     "output_type": "error",
     "traceback": [
      "\u001b[0;31m---------------------------------------------------------------------------\u001b[0m",
      "\u001b[0;31mKeyboardInterrupt\u001b[0m                         Traceback (most recent call last)",
      "\u001b[0;32m/var/folders/qj/gw4mhw3j6xb6b8q2rmwgl3h80000gp/T/ipykernel_3075/913029335.py\u001b[0m in \u001b[0;36m<module>\u001b[0;34m\u001b[0m\n\u001b[1;32m      1\u001b[0m \u001b[0;32mfor\u001b[0m \u001b[0mn\u001b[0m \u001b[0;32min\u001b[0m \u001b[0;34m[\u001b[0m\u001b[0;36m100\u001b[0m\u001b[0;34m,\u001b[0m \u001b[0;36m200\u001b[0m\u001b[0;34m,\u001b[0m \u001b[0;36m500\u001b[0m\u001b[0;34m]\u001b[0m\u001b[0;34m:\u001b[0m\u001b[0;34m\u001b[0m\u001b[0;34m\u001b[0m\u001b[0m\n\u001b[1;32m      2\u001b[0m     \u001b[0mprint\u001b[0m\u001b[0;34m(\u001b[0m\u001b[0;34mf'#### Results for {n} playouts. Flat VS Random. ####'\u001b[0m\u001b[0;34m)\u001b[0m\u001b[0;34m\u001b[0m\u001b[0;34m\u001b[0m\u001b[0m\n\u001b[0;32m----> 3\u001b[0;31m     \u001b[0mplay_game\u001b[0m\u001b[0;34m(\u001b[0m\u001b[0mn_games\u001b[0m\u001b[0;34m,\u001b[0m \u001b[0mstrategy1\u001b[0m\u001b[0;34m=\u001b[0m\u001b[0mflat\u001b[0m\u001b[0;34m,\u001b[0m \u001b[0mstrategy2\u001b[0m\u001b[0;34m=\u001b[0m\u001b[0mflat\u001b[0m\u001b[0;34m,\u001b[0m \u001b[0mn_playouts\u001b[0m\u001b[0;34m=\u001b[0m\u001b[0mn\u001b[0m\u001b[0;34m,\u001b[0m \u001b[0muse_score1\u001b[0m\u001b[0;34m=\u001b[0m\u001b[0;32mTrue\u001b[0m\u001b[0;34m,\u001b[0m \u001b[0muse_score2\u001b[0m\u001b[0;34m=\u001b[0m\u001b[0;32mTrue\u001b[0m\u001b[0;34m)\u001b[0m\u001b[0;34m\u001b[0m\u001b[0;34m\u001b[0m\u001b[0m\n\u001b[0m",
      "\u001b[0;32m/var/folders/qj/gw4mhw3j6xb6b8q2rmwgl3h80000gp/T/ipykernel_3075/1528170290.py\u001b[0m in \u001b[0;36mplay_game\u001b[0;34m(n_games, strategy1, strategy2, n_playouts, n_ucb, use_score1, use_score2)\u001b[0m\n\u001b[1;32m     17\u001b[0m                 \u001b[0mbest_move\u001b[0m \u001b[0;34m=\u001b[0m \u001b[0mstrategy1\u001b[0m\u001b[0;34m(\u001b[0m\u001b[0mgame\u001b[0m\u001b[0;34m,\u001b[0m \u001b[0mn_playouts\u001b[0m\u001b[0;34m,\u001b[0m \u001b[0muse_score1\u001b[0m\u001b[0;34m)\u001b[0m\u001b[0;34m\u001b[0m\u001b[0;34m\u001b[0m\u001b[0m\n\u001b[1;32m     18\u001b[0m             \u001b[0;32mif\u001b[0m \u001b[0mcurrent_player\u001b[0m \u001b[0;34m==\u001b[0m \u001b[0;36m1\u001b[0m\u001b[0;34m:\u001b[0m\u001b[0;34m\u001b[0m\u001b[0;34m\u001b[0m\u001b[0m\n\u001b[0;32m---> 19\u001b[0;31m                 \u001b[0mbest_move\u001b[0m \u001b[0;34m=\u001b[0m \u001b[0mstrategy2\u001b[0m\u001b[0;34m(\u001b[0m\u001b[0mgame\u001b[0m\u001b[0;34m,\u001b[0m \u001b[0mn_playouts\u001b[0m\u001b[0;34m,\u001b[0m \u001b[0muse_score2\u001b[0m\u001b[0;34m)\u001b[0m\u001b[0;34m\u001b[0m\u001b[0;34m\u001b[0m\u001b[0m\n\u001b[0m\u001b[1;32m     20\u001b[0m             \u001b[0mgame\u001b[0m\u001b[0;34m.\u001b[0m\u001b[0mplay\u001b[0m\u001b[0;34m(\u001b[0m\u001b[0mbest_move\u001b[0m\u001b[0;34m)\u001b[0m\u001b[0;34m\u001b[0m\u001b[0;34m\u001b[0m\u001b[0m\n\u001b[1;32m     21\u001b[0m         \u001b[0mscore\u001b[0m \u001b[0;34m=\u001b[0m \u001b[0mgame\u001b[0m\u001b[0;34m.\u001b[0m\u001b[0mscore\u001b[0m\u001b[0;34m(\u001b[0m\u001b[0;34m)\u001b[0m\u001b[0;34m\u001b[0m\u001b[0;34m\u001b[0m\u001b[0m\n",
      "\u001b[0;32m/var/folders/qj/gw4mhw3j6xb6b8q2rmwgl3h80000gp/T/ipykernel_3075/4154546050.py\u001b[0m in \u001b[0;36mflat\u001b[0;34m(board, n, use_score)\u001b[0m\n\u001b[1;32m     19\u001b[0m         \u001b[0mb\u001b[0m \u001b[0;34m=\u001b[0m \u001b[0mcopy\u001b[0m\u001b[0;34m.\u001b[0m\u001b[0mdeepcopy\u001b[0m\u001b[0;34m(\u001b[0m\u001b[0mboard\u001b[0m\u001b[0;34m)\u001b[0m\u001b[0;34m\u001b[0m\u001b[0;34m\u001b[0m\u001b[0m\n\u001b[1;32m     20\u001b[0m         \u001b[0mb\u001b[0m\u001b[0;34m.\u001b[0m\u001b[0mplay\u001b[0m\u001b[0;34m(\u001b[0m\u001b[0mmoves\u001b[0m\u001b[0;34m[\u001b[0m\u001b[0mm\u001b[0m\u001b[0;34m]\u001b[0m\u001b[0;34m)\u001b[0m \u001b[0;31m# Play the move\u001b[0m\u001b[0;34m\u001b[0m\u001b[0;34m\u001b[0m\u001b[0m\n\u001b[0;32m---> 21\u001b[0;31m         \u001b[0mr\u001b[0m \u001b[0;34m=\u001b[0m \u001b[0mb\u001b[0m\u001b[0;34m.\u001b[0m\u001b[0mplayout\u001b[0m\u001b[0;34m(\u001b[0m\u001b[0;34m)\u001b[0m \u001b[0;31m# Result of the random game from moves[m]\u001b[0m\u001b[0;34m\u001b[0m\u001b[0;34m\u001b[0m\u001b[0m\n\u001b[0m\u001b[1;32m     22\u001b[0m \u001b[0;34m\u001b[0m\u001b[0m\n\u001b[1;32m     23\u001b[0m         \u001b[0;32mif\u001b[0m \u001b[0muse_score\u001b[0m\u001b[0;34m:\u001b[0m\u001b[0;34m\u001b[0m\u001b[0;34m\u001b[0m\u001b[0m\n",
      "\u001b[0;32m/var/folders/qj/gw4mhw3j6xb6b8q2rmwgl3h80000gp/T/ipykernel_3075/1315398140.py\u001b[0m in \u001b[0;36mplayout\u001b[0;34m(self)\u001b[0m\n\u001b[1;32m    512\u001b[0m             \u001b[0mdice_result\u001b[0m \u001b[0;34m=\u001b[0m \u001b[0mself\u001b[0m\u001b[0;34m.\u001b[0m\u001b[0mthrow_dice\u001b[0m\u001b[0;34m(\u001b[0m\u001b[0;34m)\u001b[0m\u001b[0;34m\u001b[0m\u001b[0;34m\u001b[0m\u001b[0m\n\u001b[1;32m    513\u001b[0m             \u001b[0;31m#We get all the legal moves for this dice result\u001b[0m\u001b[0;34m\u001b[0m\u001b[0;34m\u001b[0m\u001b[0m\n\u001b[0;32m--> 514\u001b[0;31m             \u001b[0mmoves\u001b[0m \u001b[0;34m=\u001b[0m \u001b[0mself\u001b[0m\u001b[0;34m.\u001b[0m\u001b[0mlegal_moves\u001b[0m\u001b[0;34m(\u001b[0m\u001b[0mdice\u001b[0m\u001b[0;34m=\u001b[0m\u001b[0mdice_result\u001b[0m\u001b[0;34m)\u001b[0m\u001b[0;34m\u001b[0m\u001b[0;34m\u001b[0m\u001b[0m\n\u001b[0m\u001b[1;32m    515\u001b[0m             \u001b[0;31m# If the game is over\u001b[0m\u001b[0;34m\u001b[0m\u001b[0;34m\u001b[0m\u001b[0m\n\u001b[1;32m    516\u001b[0m             \u001b[0;32mif\u001b[0m \u001b[0mself\u001b[0m\u001b[0;34m.\u001b[0m\u001b[0mterminal\u001b[0m\u001b[0;34m(\u001b[0m\u001b[0;34m)\u001b[0m\u001b[0;34m:\u001b[0m\u001b[0;34m\u001b[0m\u001b[0;34m\u001b[0m\u001b[0m\n",
      "\u001b[0;32m/var/folders/qj/gw4mhw3j6xb6b8q2rmwgl3h80000gp/T/ipykernel_3075/1315398140.py\u001b[0m in \u001b[0;36mlegal_moves\u001b[0;34m(self, dice)\u001b[0m\n\u001b[1;32m    441\u001b[0m                     \u001b[0;31m# Check if the move is legal\u001b[0m\u001b[0;34m\u001b[0m\u001b[0;34m\u001b[0m\u001b[0m\n\u001b[1;32m    442\u001b[0m \u001b[0;34m\u001b[0m\u001b[0m\n\u001b[0;32m--> 443\u001b[0;31m                     \u001b[0;32mif\u001b[0m \u001b[0mm\u001b[0m\u001b[0;34m.\u001b[0m\u001b[0mvalid\u001b[0m\u001b[0;34m(\u001b[0m\u001b[0mself\u001b[0m\u001b[0;34m)\u001b[0m\u001b[0;34m:\u001b[0m\u001b[0;34m\u001b[0m\u001b[0;34m\u001b[0m\u001b[0m\n\u001b[0m\u001b[1;32m    444\u001b[0m                         \u001b[0;31m# If yes, add to moves\u001b[0m\u001b[0;34m\u001b[0m\u001b[0;34m\u001b[0m\u001b[0m\n\u001b[1;32m    445\u001b[0m \u001b[0;34m\u001b[0m\u001b[0m\n",
      "\u001b[0;32m/var/folders/qj/gw4mhw3j6xb6b8q2rmwgl3h80000gp/T/ipykernel_3075/1315398140.py\u001b[0m in \u001b[0;36mvalid\u001b[0;34m(self, board)\u001b[0m\n\u001b[1;32m    380\u001b[0m     \u001b[0;32mdef\u001b[0m \u001b[0mvalid\u001b[0m\u001b[0;34m(\u001b[0m\u001b[0mself\u001b[0m\u001b[0;34m,\u001b[0m \u001b[0mboard\u001b[0m\u001b[0;34m)\u001b[0m\u001b[0;34m:\u001b[0m\u001b[0;34m\u001b[0m\u001b[0;34m\u001b[0m\u001b[0m\n\u001b[1;32m    381\u001b[0m         \u001b[0;31m#print(self.is_pawn_new_orientation_valid(), self.is_pawn_new_position_valid(), self.is_rug_adjacent_to_pawn(), self.is_rug_covering_another_rug(board))\u001b[0m\u001b[0;34m\u001b[0m\u001b[0;34m\u001b[0m\u001b[0m\n\u001b[0;32m--> 382\u001b[0;31m         \u001b[0;32mif\u001b[0m \u001b[0;32mnot\u001b[0m \u001b[0mself\u001b[0m\u001b[0;34m.\u001b[0m\u001b[0mis_pawn_new_orientation_valid\u001b[0m\u001b[0;34m(\u001b[0m\u001b[0;34m)\u001b[0m\u001b[0;34m:\u001b[0m\u001b[0;34m\u001b[0m\u001b[0;34m\u001b[0m\u001b[0m\n\u001b[0m\u001b[1;32m    383\u001b[0m             \u001b[0;32mreturn\u001b[0m \u001b[0;32mFalse\u001b[0m\u001b[0;34m\u001b[0m\u001b[0;34m\u001b[0m\u001b[0m\n\u001b[1;32m    384\u001b[0m         \u001b[0;32melif\u001b[0m \u001b[0;32mnot\u001b[0m \u001b[0mself\u001b[0m\u001b[0;34m.\u001b[0m\u001b[0mis_pawn_new_position_valid\u001b[0m\u001b[0;34m(\u001b[0m\u001b[0;34m)\u001b[0m\u001b[0;34m:\u001b[0m\u001b[0;34m\u001b[0m\u001b[0;34m\u001b[0m\u001b[0m\n",
      "\u001b[0;32m/var/folders/qj/gw4mhw3j6xb6b8q2rmwgl3h80000gp/T/ipykernel_3075/1315398140.py\u001b[0m in \u001b[0;36mis_pawn_new_orientation_valid\u001b[0;34m(self)\u001b[0m\n\u001b[1;32m    346\u001b[0m     \u001b[0;32mdef\u001b[0m \u001b[0mis_pawn_new_orientation_valid\u001b[0m\u001b[0;34m(\u001b[0m\u001b[0mself\u001b[0m\u001b[0;34m)\u001b[0m\u001b[0;34m:\u001b[0m\u001b[0;34m\u001b[0m\u001b[0;34m\u001b[0m\u001b[0m\n\u001b[1;32m    347\u001b[0m         \u001b[0;31m# It is valid if no u-turn\u001b[0m\u001b[0;34m\u001b[0m\u001b[0;34m\u001b[0m\u001b[0m\n\u001b[0;32m--> 348\u001b[0;31m         \u001b[0;32mreturn\u001b[0m \u001b[0mself\u001b[0m\u001b[0;34m.\u001b[0m\u001b[0mnew_orientation\u001b[0m \u001b[0;32min\u001b[0m \u001b[0mself\u001b[0m\u001b[0;34m.\u001b[0m\u001b[0mpawn\u001b[0m\u001b[0;34m.\u001b[0m\u001b[0mlegal_orientations\u001b[0m\u001b[0;34m(\u001b[0m\u001b[0;34m)\u001b[0m\u001b[0;34m\u001b[0m\u001b[0;34m\u001b[0m\u001b[0m\n\u001b[0m\u001b[1;32m    349\u001b[0m \u001b[0;34m\u001b[0m\u001b[0m\n\u001b[1;32m    350\u001b[0m     \u001b[0;32mdef\u001b[0m \u001b[0mis_pawn_new_position_valid\u001b[0m\u001b[0;34m(\u001b[0m\u001b[0mself\u001b[0m\u001b[0;34m)\u001b[0m\u001b[0;34m:\u001b[0m\u001b[0;34m\u001b[0m\u001b[0;34m\u001b[0m\u001b[0m\n",
      "\u001b[0;32m/var/folders/qj/gw4mhw3j6xb6b8q2rmwgl3h80000gp/T/ipykernel_3075/1315398140.py\u001b[0m in \u001b[0;36mlegal_orientations\u001b[0;34m(self)\u001b[0m\n\u001b[1;32m    197\u001b[0m     \u001b[0;32mdef\u001b[0m \u001b[0mlegal_orientations\u001b[0m\u001b[0;34m(\u001b[0m\u001b[0mself\u001b[0m\u001b[0;34m)\u001b[0m\u001b[0;34m:\u001b[0m\u001b[0;34m\u001b[0m\u001b[0;34m\u001b[0m\u001b[0m\n\u001b[1;32m    198\u001b[0m         \u001b[0;31m# The pawn cannot make a u turn\u001b[0m\u001b[0;34m\u001b[0m\u001b[0;34m\u001b[0m\u001b[0m\n\u001b[0;32m--> 199\u001b[0;31m         \u001b[0morientations\u001b[0m \u001b[0;34m=\u001b[0m \u001b[0;34m[\u001b[0m\u001b[0mNORTH\u001b[0m\u001b[0;34m,\u001b[0m \u001b[0mSOUTH\u001b[0m\u001b[0;34m,\u001b[0m \u001b[0mEAST\u001b[0m\u001b[0;34m,\u001b[0m \u001b[0mWEST\u001b[0m\u001b[0;34m]\u001b[0m\u001b[0;34m\u001b[0m\u001b[0;34m\u001b[0m\u001b[0m\n\u001b[0m\u001b[1;32m    200\u001b[0m         \u001b[0morientations\u001b[0m\u001b[0;34m.\u001b[0m\u001b[0mremove\u001b[0m\u001b[0;34m(\u001b[0m\u001b[0mu_turn\u001b[0m\u001b[0;34m[\u001b[0m\u001b[0mself\u001b[0m\u001b[0;34m.\u001b[0m\u001b[0morientation\u001b[0m\u001b[0;34m]\u001b[0m\u001b[0;34m)\u001b[0m\u001b[0;34m\u001b[0m\u001b[0;34m\u001b[0m\u001b[0m\n\u001b[1;32m    201\u001b[0m         \u001b[0;32mreturn\u001b[0m \u001b[0morientations\u001b[0m\u001b[0;34m\u001b[0m\u001b[0;34m\u001b[0m\u001b[0m\n",
      "\u001b[0;31mKeyboardInterrupt\u001b[0m: "
     ]
    }
   ],
   "source": [
    "for n in [100, 200, 500]:\n",
    "    print(f'#### Results for {n} playouts. Flat VS Random. ####')\n",
    "    play_game(n_games, strategy1=flat, strategy2=flat, n_playouts=n, use_score1=True, use_score2=True)"
   ]
  },
  {
   "cell_type": "code",
   "execution_count": null,
   "metadata": {},
   "outputs": [],
   "source": [
    "print(f'Time: {time.time() - start}')"
   ]
  },
  {
   "cell_type": "markdown",
   "metadata": {},
   "source": [
    "## UCB VS Aléatoire"
   ]
  },
  {
   "cell_type": "code",
   "execution_count": 10,
   "metadata": {},
   "outputs": [
    {
     "name": "stdout",
     "output_type": "stream",
     "text": [
      "#### Results for 1 playouts. UCB VS Random. ####\n"
     ]
    },
    {
     "name": "stderr",
     "output_type": "stream",
     "text": [
      "100%|███████████████████████████████████████████| 10/10 [00:01<00:00,  7.26it/s]\n"
     ]
    },
    {
     "name": "stdout",
     "output_type": "stream",
     "text": [
      "Winrate of player 0 : 0.2\n",
      "Winrate of player 1 : 0.8\n",
      "Number of draw : 0\n",
      "Mean score : -19.0\n",
      "#### Results for 2 playouts. UCB VS Random. ####\n"
     ]
    },
    {
     "name": "stderr",
     "output_type": "stream",
     "text": [
      "100%|███████████████████████████████████████████| 10/10 [00:02<00:00,  3.75it/s]\n"
     ]
    },
    {
     "name": "stdout",
     "output_type": "stream",
     "text": [
      "Winrate of player 0 : 0.7\n",
      "Winrate of player 1 : 0.2\n",
      "Number of draw : 1\n",
      "Mean score : 10.6\n",
      "#### Results for 5 playouts. UCB VS Random. ####\n"
     ]
    },
    {
     "name": "stderr",
     "output_type": "stream",
     "text": [
      "100%|███████████████████████████████████████████| 10/10 [00:06<00:00,  1.61it/s]\n"
     ]
    },
    {
     "name": "stdout",
     "output_type": "stream",
     "text": [
      "Winrate of player 0 : 0.5\n",
      "Winrate of player 1 : 0.5\n",
      "Number of draw : 0\n",
      "Mean score : -5.5\n",
      "#### Results for 10 playouts. UCB VS Random. ####\n"
     ]
    },
    {
     "name": "stderr",
     "output_type": "stream",
     "text": [
      "100%|███████████████████████████████████████████| 10/10 [00:13<00:00,  1.31s/it]\n"
     ]
    },
    {
     "name": "stdout",
     "output_type": "stream",
     "text": [
      "Winrate of player 0 : 0.5\n",
      "Winrate of player 1 : 0.5\n",
      "Number of draw : 0\n",
      "Mean score : -6.1\n",
      "#### Results for 50 playouts. UCB VS Random. ####\n"
     ]
    },
    {
     "name": "stderr",
     "output_type": "stream",
     "text": [
      "100%|███████████████████████████████████████████| 10/10 [00:58<00:00,  5.87s/it]\n"
     ]
    },
    {
     "name": "stdout",
     "output_type": "stream",
     "text": [
      "Winrate of player 0 : 1.0\n",
      "Winrate of player 1 : 0.0\n",
      "Number of draw : 0\n",
      "Mean score : 19.8\n",
      "#### Results for 100 playouts. UCB VS Random. ####\n"
     ]
    },
    {
     "name": "stderr",
     "output_type": "stream",
     "text": [
      "100%|███████████████████████████████████████████| 10/10 [01:57<00:00, 11.76s/it]"
     ]
    },
    {
     "name": "stdout",
     "output_type": "stream",
     "text": [
      "Winrate of player 0 : 1.0\n",
      "Winrate of player 1 : 0.0\n",
      "Number of draw : 0\n",
      "Mean score : 22.7\n"
     ]
    },
    {
     "name": "stderr",
     "output_type": "stream",
     "text": [
      "\n"
     ]
    }
   ],
   "source": [
    "for n in [1,2,5,10,50,100]:\n",
    "    print(f'#### Results for {n} playouts. UCB VS Random. ####')\n",
    "    play_game(n_games, strategy1=UCB, strategy2=rand_strat, n_playouts=n)"
   ]
  },
  {
   "cell_type": "markdown",
   "metadata": {},
   "source": [
    "## UCB VS FLAT"
   ]
  },
  {
   "cell_type": "code",
   "execution_count": 13,
   "metadata": {},
   "outputs": [
    {
     "name": "stdout",
     "output_type": "stream",
     "text": [
      "#### Results for 1 playouts for flat and 10 for UCB. UCB VS Flat. ####\n"
     ]
    },
    {
     "name": "stderr",
     "output_type": "stream",
     "text": [
      "100%|███████████████████████████████████████████| 10/10 [00:31<00:00,  3.14s/it]"
     ]
    },
    {
     "name": "stdout",
     "output_type": "stream",
     "text": [
      "Winrate of player 0 : 0.2\n",
      "Winrate of player 1 : 0.8\n",
      "Number of draw : 0\n",
      "Mean score : -21.3\n"
     ]
    },
    {
     "name": "stderr",
     "output_type": "stream",
     "text": [
      "\n"
     ]
    }
   ],
   "source": [
    "for n in [1]:\n",
    "    for n_ucb in [10]:\n",
    "        print(f'#### Results for {n} playouts for flat and {n_ucb} for UCB. UCB VS Flat. ####')\n",
    "        play_game(n_games, strategy1=UCB, strategy2=flat, n_playouts=n, n_ucb=n_ucb)"
   ]
  },
  {
   "cell_type": "code",
   "execution_count": null,
   "metadata": {},
   "outputs": [],
   "source": []
  },
  {
   "cell_type": "code",
   "execution_count": 14,
   "metadata": {},
   "outputs": [
    {
     "name": "stdout",
     "output_type": "stream",
     "text": [
      "Time: 2428.8194603919983\n"
     ]
    }
   ],
   "source": [
    "print(f'Time: {time.time() - start}')"
   ]
  },
  {
   "cell_type": "code",
   "execution_count": 15,
   "metadata": {},
   "outputs": [],
   "source": [
    "tps = time.time() - start"
   ]
  },
  {
   "cell_type": "code",
   "execution_count": 16,
   "metadata": {},
   "outputs": [
    {
     "name": "stdout",
     "output_type": "stream",
     "text": [
      "40.483996256192526\n"
     ]
    }
   ],
   "source": [
    "print(tps/60)"
   ]
  },
  {
   "cell_type": "code",
   "execution_count": null,
   "metadata": {},
   "outputs": [],
   "source": []
  },
  {
   "cell_type": "code",
   "execution_count": null,
   "metadata": {},
   "outputs": [],
   "source": []
  }
 ],
 "metadata": {
  "colab": {
   "collapsed_sections": [],
   "name": "Marrakech MCTS.ipynb",
   "provenance": []
  },
  "kernelspec": {
   "display_name": "Python 3",
   "language": "python",
   "name": "python3"
  },
  "language_info": {
   "codemirror_mode": {
    "name": "ipython",
    "version": 3
   },
   "file_extension": ".py",
   "mimetype": "text/x-python",
   "name": "python",
   "nbconvert_exporter": "python",
   "pygments_lexer": "ipython3",
   "version": "3.7.4"
  }
 },
 "nbformat": 4,
 "nbformat_minor": 4
}
